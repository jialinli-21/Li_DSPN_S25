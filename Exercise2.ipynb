{
  "cells": [
    {
      "cell_type": "markdown",
      "source": [
        "1. Summary Statistics (3/4):Missing values should not be included in the vector length\n",
        "\n",
        "\n",
        "\n",
        "2. T-test function (4/4): The function is correct, value will be correct if the missing value is addressed while calculating the vector length\n",
        "\n",
        "\n",
        "3. Settting default value (2/2): The function is correct, value will align with the default function output if the missing value is addressed while calculating the vector length"
      ],
      "metadata": {
        "id": "4KCMZsd1VJ8y"
      },
      "id": "4KCMZsd1VJ8y"
    },
    {
      "cell_type": "code",
      "execution_count": null,
      "id": "ed8d1f38-d031-49ba-b863-1d5fc1af404c",
      "metadata": {
        "id": "ed8d1f38-d031-49ba-b863-1d5fc1af404c"
      },
      "outputs": [],
      "source": [
        "#Write your function here\n",
        "stats  <- function(x){c(\n",
        "    mean = mean(x, na.rm = TRUE),\n",
        "    length = length(x),\n",
        "    sd = sd(x,  na.rm = TRUE))\n",
        "}"
      ]
    },
    {
      "cell_type": "code",
      "execution_count": null,
      "id": "faf4e0cf-bcd9-4fd4-8e97-092a48a3437e",
      "metadata": {
        "id": "faf4e0cf-bcd9-4fd4-8e97-092a48a3437e",
        "outputId": "184f80b2-d194-4968-89f2-5cb5cddf7be7"
      },
      "outputs": [
        {
          "data": {
            "text/html": [
              "<dl class=dl-horizontal>\n",
              "\t<dt>mean</dt>\n",
              "\t\t<dd>7.75</dd>\n",
              "\t<dt>length</dt>\n",
              "\t\t<dd>5</dd>\n",
              "\t<dt>sd</dt>\n",
              "\t\t<dd>2.75378527364305</dd>\n",
              "</dl>\n"
            ],
            "text/latex": [
              "\\begin{description*}\n",
              "\\item[mean] 7.75\n",
              "\\item[length] 5\n",
              "\\item[sd] 2.75378527364305\n",
              "\\end{description*}\n"
            ],
            "text/markdown": [
              "mean\n",
              ":   7.75length\n",
              ":   5sd\n",
              ":   2.75378527364305\n",
              "\n"
            ],
            "text/plain": [
              "    mean   length       sd \n",
              "7.750000 5.000000 2.753785 "
            ]
          },
          "metadata": {},
          "output_type": "display_data"
        }
      ],
      "source": [
        "v1  <- c(5, 11, 6, NA, 9)\n",
        "stats(v1)"
      ]
    },
    {
      "cell_type": "code",
      "execution_count": null,
      "id": "4db1ff32-c8e7-459f-9c60-b7ba63c69ace",
      "metadata": {
        "id": "4db1ff32-c8e7-459f-9c60-b7ba63c69ace"
      },
      "outputs": [],
      "source": [
        "# Write ttest_fun here\n",
        "ttest_fun<- function(x, mu){\n",
        "    m = mean(x, na.rm = TRUE)\n",
        "    s = sd(x, na.rm = TRUE)\n",
        "    ttest = (m - mu)/(s/sqrt(length(x)))\n",
        "    return(ttest)\n",
        "}"
      ]
    },
    {
      "cell_type": "code",
      "execution_count": null,
      "id": "9f5ca670-1eec-481a-aa93-f5b4ca9d9e09",
      "metadata": {
        "id": "9f5ca670-1eec-481a-aa93-f5b4ca9d9e09",
        "outputId": "6d341cc6-8eab-477d-c666-6d5d275deb08"
      },
      "outputs": [
        {
          "data": {
            "text/html": [
              "-1.82699537161759"
            ],
            "text/latex": [
              "-1.82699537161759"
            ],
            "text/markdown": [
              "-1.82699537161759"
            ],
            "text/plain": [
              "[1] -1.826995"
            ]
          },
          "metadata": {},
          "output_type": "display_data"
        }
      ],
      "source": [
        "ttest_fun(v1, 10)"
      ]
    },
    {
      "cell_type": "code",
      "execution_count": null,
      "id": "ab0c1858-3955-4a03-bd71-24cfbd9db173",
      "metadata": {
        "id": "ab0c1858-3955-4a03-bd71-24cfbd9db173"
      },
      "outputs": [],
      "source": [
        "# Write your modified ttest_fun here\n",
        "ttest_fun<- function(x, mu=0){\n",
        "    m = mean(x, na.rm = TRUE)\n",
        "    s = sd(x, na.rm = TRUE)\n",
        "    ttest = (m - mu)/(s/sqrt(length(x)))\n",
        "    return(ttest)\n",
        "\n",
        "}"
      ]
    },
    {
      "cell_type": "code",
      "execution_count": null,
      "id": "f7eb64d5-ee09-4ba9-b945-4f288b4b679d",
      "metadata": {
        "id": "f7eb64d5-ee09-4ba9-b945-4f288b4b679d",
        "outputId": "8690d698-989d-48f4-de63-f6a8cf4592de"
      },
      "outputs": [
        {
          "data": {
            "text/html": [
              "3.51193534102953"
            ],
            "text/latex": [
              "3.51193534102953"
            ],
            "text/markdown": [
              "3.51193534102953"
            ],
            "text/plain": [
              "[1] 3.511935"
            ]
          },
          "metadata": {},
          "output_type": "display_data"
        }
      ],
      "source": [
        "v2 <- c(3, 7, 1, NA, 8, 12)\n",
        "ttest_fun(v2)"
      ]
    },
    {
      "cell_type": "code",
      "execution_count": null,
      "id": "9230c9f8-5f6f-4f1d-bfd2-619b92d45c67",
      "metadata": {
        "id": "9230c9f8-5f6f-4f1d-bfd2-619b92d45c67",
        "outputId": "5a04906c-c374-4042-bea2-5092a180a1d1"
      },
      "outputs": [
        {
          "data": {
            "text/plain": [
              "\n",
              "\tOne Sample t-test\n",
              "\n",
              "data:  v2\n",
              "t = 3.2059, df = 4, p-value = 0.03272\n",
              "alternative hypothesis: true mean is not equal to 0\n",
              "95 percent confidence interval:\n",
              "  0.8306107 11.5693893\n",
              "sample estimates:\n",
              "mean of x \n",
              "      6.2 \n"
            ]
          },
          "metadata": {},
          "output_type": "display_data"
        }
      ],
      "source": [
        "t.test(v2)"
      ]
    },
    {
      "cell_type": "markdown",
      "id": "b60b4fbd-82b2-4865-8d68-da89cf867c11",
      "metadata": {
        "id": "b60b4fbd-82b2-4865-8d68-da89cf867c11"
      },
      "source": [
        "My result is bigger than the result of R’s built-in t.test() function."
      ]
    }
  ],
  "metadata": {
    "kernelspec": {
      "display_name": "R",
      "language": "R",
      "name": "ir"
    },
    "language_info": {
      "codemirror_mode": "r",
      "file_extension": ".r",
      "mimetype": "text/x-r-source",
      "name": "R",
      "pygments_lexer": "r",
      "version": "3.6.1"
    },
    "colab": {
      "provenance": []
    }
  },
  "nbformat": 4,
  "nbformat_minor": 5
}