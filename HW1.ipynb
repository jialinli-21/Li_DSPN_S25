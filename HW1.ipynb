{
 "cells": [
  {
   "cell_type": "code",
   "execution_count": 1,
   "id": "60e97818-7d59-43dd-b85b-5ded9ab4a3b3",
   "metadata": {},
   "outputs": [],
   "source": [
    "#Hello World"
   ]
  },
  {
   "cell_type": "code",
   "execution_count": null,
   "id": "8b06bc90-7394-4fcb-883d-38c3245cf016",
   "metadata": {},
   "outputs": [],
   "source": []
  }
 ],
 "metadata": {
  "kernelspec": {
   "display_name": "R",
   "language": "R",
   "name": "ir"
  },
  "language_info": {
   "codemirror_mode": "r",
   "file_extension": ".r",
   "mimetype": "text/x-r-source",
   "name": "R",
   "pygments_lexer": "r",
   "version": "3.6.1"
  }
 },
 "nbformat": 4,
 "nbformat_minor": 5
}
