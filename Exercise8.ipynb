{
  "cells": [
    {
      "cell_type": "markdown",
      "metadata": {
        "id": "view-in-github",
        "colab_type": "text"
      },
      "source": [
        "<a href=\"https://colab.research.google.com/github/jialinli-21/Li_DSPN_S25/blob/main/Exercise8.ipynb\" target=\"_parent\"><img src=\"https://colab.research.google.com/assets/colab-badge.svg\" alt=\"Open In Colab\"/></a>"
      ]
    },
    {
      "cell_type": "markdown",
      "metadata": {
        "id": "szkkhiCZDF52"
      },
      "source": [
        "# Exercise 8:  Linear models, continued\n",
        "\n",
        "This homework assignment is designed to give you a deeper understanding of linear models. First, we'll dive into the math behind the closed-form solution of maximum likelihood estimation. **In the first section below, write your answers using Latex equation formatting.**\n",
        "\n",
        "*Note: Check out [this page](https://gtribello.github.io/mathNET/assets/notebook-writing.html) and [this page](https://towardsdatascience.com/write-markdown-latex-in-the-jupyter-notebook-10985edb91fd) for resources on how to do Latex formatting. You can also double click on the question cells in this notebook to see how math is formatted in the questions.*\n"
      ]
    },
    {
      "cell_type": "markdown",
      "source": [
        "1. Deriving the Maximum Likelihood Estimate for Simple Linear Regression 6/6\n",
        "2. Connecting to data 4/4"
      ],
      "metadata": {
        "id": "SzAqhjIjX38o"
      }
    },
    {
      "cell_type": "markdown",
      "metadata": {
        "id": "QJscNReoylRt"
      },
      "source": [
        "---\n",
        "## 1. Deriving the Maximum Likelihood Estimate for Simple Linear Regression (6 points)"
      ]
    },
    {
      "cell_type": "markdown",
      "metadata": {
        "id": "nH82gwuymPi0"
      },
      "source": [
        "Using the mean squared error (MSE) as your objective function (the thing you're trying to minimize when you fit your model) allows for a closed form solution to finding the maximum likelihood estimate (MLE) of your model parameters in linear regression. Let’s consider the simple, single predictor variable model, i.e. simple linear regression :  $Y= \\beta_0 + \\beta_1 X $.\n",
        "\n",
        "a) Use algebra to show how you can expand out $MSE(\\beta_0, \\beta_1)$ to get from i to ii below.\n",
        "\n",
        "> _i)_ $E[ (Y-(\\beta_0 + \\beta_1 X))^2]$\n",
        "\n",
        "> _ii)_ $E[Y^2] -2 \\beta_0E[Y]-2 \\beta_1 Cov[X,Y]-2 \\beta_1 E[X]E[Y]+ \\beta_0^2 +2 \\beta_0 \\beta_1 E[X]+\\beta_1^2 Var[X]+ \\beta_1^2 (E[X])^2$\n",
        "\n",
        "\n",
        "\n",
        "\n"
      ]
    },
    {
      "cell_type": "markdown",
      "metadata": {
        "id": "dn2hveNho-Of"
      },
      "source": [
        "**Answer:**\n",
        "\n",
        "> *$E[ (Y-(\\beta_0 + \\beta_1 X))^2]$ =\n",
        "$E[(Y)^2-2(Y)(\\beta_0 + \\beta_1 X)+(\\beta_0 + \\beta_1 X)^2]$ =\n",
        "$E[(Y)^2-2(Y)(\\beta_0 + \\beta_1 X)+ (\\beta_0)^2 +  (\\beta_1 X)^2+2\\beta_0\\beta_1 X]$ = $E(Y)^2-2\\beta_0E[Y]- 2\\beta_1E[XY]+ \\beta_0^2 +  \\beta_1^2E[X^2]+2\\beta_0\\beta_1E[X]$ =\n",
        "$E[Y^2] -2 \\beta_0E[Y] -2\\beta_1(Cov[X,Y] + E[X]E[Y]) + \\beta_0^2 +2 \\beta_0 \\beta_1 E[X] + \\beta_1^2 (Var[X] + (E[X])^2)$ =\n",
        "$E[Y^2] -2 \\beta_0E[Y]-2 \\beta_1 Cov[X,Y]-2 \\beta_1 E[X]E[Y]+ \\beta_0^2 +2 \\beta_0 \\beta_1 E[X]+\\beta_1^2 Var[X]+ \\beta_1^2 (E[X])^2$*"
      ]
    },
    {
      "cell_type": "markdown",
      "metadata": {
        "id": "GCr46r9xwRXP"
      },
      "source": [
        "b) Prove that the MLE of $\\beta_0$ is $E[Y]- \\beta_1 E[X]$ by taking the derivative of _ii_ above, with respect to $\\beta_0$, setting the derivative to zero, and solving for $\\beta_0$."
      ]
    },
    {
      "cell_type": "markdown",
      "metadata": {
        "id": "Ul-PZyLbwTCQ"
      },
      "source": [
        "**Answer:**\n",
        "\n",
        "> *$\\frac{d(E[Y^2] -2 \\beta_0E[Y]-2 \\beta_1 Cov[X,Y]-2 \\beta_1 E[X]E[Y]+ \\beta_0^2 +2 \\beta_0 \\beta_1 E[X]+\\beta_1^2 Var[X]+ \\beta_1^2 (E[X])^2)}{d\\beta_0}$ = $-2E[Y]+2\\beta_0+2\\beta_1E[X] = 0$*\n",
        "> *$\\beta_0 = E[Y] - \\beta_1E[X]$*"
      ]
    },
    {
      "cell_type": "markdown",
      "metadata": {
        "id": "-uv4Z7afw4gB"
      },
      "source": [
        "c) Prove that the MLE for $\\beta_1$ is $Cov[X,Y]/Var[X]$ by taking the derivative of equation _ii_ above, with respect to $\\beta_1$, setting the derivative to zero, and solving for $\\beta_1$. *Hint: after you've simplified / expanded a bit, plug in the solution for $\\beta_0$ from part b.*"
      ]
    },
    {
      "cell_type": "markdown",
      "metadata": {
        "id": "sWTFZ6ZSw6sh"
      },
      "source": [
        "**Answer:**\n",
        "\n",
        "> *$\\frac{d(E[Y^2] -2 \\beta_0E[Y]-2 \\beta_1 Cov[X,Y]-2 \\beta_1 E[X]E[Y]+ \\beta_0^2 +2 \\beta_0 \\beta_1 E[X]+\\beta_1^2 Var[X]+ \\beta_1^2 (E[X])^2)}{d\\beta_1}$ = $-2Cov[X,Y] - 2E[X]E[Y] + 2\\beta_0E[X] + 2\\beta_1Var[X] +2\\beta_1E[X]^2 = 0$*\n",
        "> *$Cov[X,Y]+E[X]E[Y] = \\beta_0E[X] + \\beta_1Var[X]+\\beta_1E[X]^2$*\n",
        "> *$Cov[X,Y]/E[X]+E[Y] = \\beta_0 + \\beta_1Var[X]/E[X]+\\beta_1E[X]$*\n",
        "> *$Cov[X,Y]/E[X]+E[Y] = E[Y] - \\beta_1E[X] + \\beta_1Var[X]/E[X]+\\beta_1E[X]$*\n",
        "> *$Cov[X,Y]/E[X] =-\\beta_1E[X] + \\beta_1Var[X]/E[X]+\\beta_1E[X]$*\n",
        "> *$Cov[X,Y]/E[X] =\\beta_1E[X](- 1+ 1+1)$*\n",
        "> *$Cov[X,Y]/Var[X] =\\beta_1$*"
      ]
    },
    {
      "cell_type": "markdown",
      "metadata": {
        "id": "66X264ZpDF58"
      },
      "source": [
        "---\n",
        "## 2. Connecting to data (4 points)\n",
        "\n",
        "Now let's connect this to some real data. Once again we'll be using the  **unrestricted_trimmed_1_7_2020_10_50_44.csv** file from the *Homework/hcp_data* folder in the class GitHub repository.\n",
        "\n",
        "​\n",
        "This data is a portion of the [Human Connectome Project database](http://www.humanconnectomeproject.org/). It provides measures of cognitive tasks and brain morphology measurements from 1206 participants. The full description of each variable is provided in the **HCP_S1200_DataDictionary_April_20_2018.csv** file in the *Homework/hcp_data* folder in the class GitHub repository.\n",
        "\n",
        "a) Use the `setwd` and `read.csv` functions to load data from the **unrestricted_trimmed_1_7_2020_10_50_44.csv** file. Then use the `tidyverse` tools make a new dataframe `d1` that only inclues the subject ID (`Subject`), Flanker Task performance (`Flanker_Unadj`), and total grey matter volume (`FS_Total_GM_Vol`) variables and remove all _NA_ values.\n",
        "\n",
        "Use the `head` function to look at the first few rows of each data frame."
      ]
    },
    {
      "cell_type": "code",
      "execution_count": null,
      "metadata": {
        "id": "PZ0lngBjDF58",
        "vscode": {
          "languageId": "r"
        },
        "outputId": "e499b81c-fcc0-4538-bf5c-4d7fe32abd72",
        "colab": {
          "base_uri": "https://localhost:8080/",
          "height": 286
        }
      },
      "outputs": [
        {
          "output_type": "display_data",
          "data": {
            "text/html": [
              "<table class=\"dataframe\">\n",
              "<caption>A data.frame: 6 × 5</caption>\n",
              "<thead>\n",
              "\t<tr><th></th><th scope=col>Subject</th><th scope=col>Gender</th><th scope=col>Flanker_Unadj</th><th scope=col>FS_Tot_WM_Vol</th><th scope=col>FS_Total_GM_Vol</th></tr>\n",
              "\t<tr><th></th><th scope=col>&lt;int&gt;</th><th scope=col>&lt;chr&gt;</th><th scope=col>&lt;dbl&gt;</th><th scope=col>&lt;int&gt;</th><th scope=col>&lt;int&gt;</th></tr>\n",
              "</thead>\n",
              "<tbody>\n",
              "\t<tr><th scope=row>1</th><td>100206</td><td>M</td><td>130.42</td><td>543134</td><td>807245</td></tr>\n",
              "\t<tr><th scope=row>2</th><td>100307</td><td>F</td><td>112.56</td><td>407292</td><td>664124</td></tr>\n",
              "\t<tr><th scope=row>3</th><td>100408</td><td>M</td><td>121.18</td><td>500417</td><td>726206</td></tr>\n",
              "\t<tr><th scope=row>4</th><td>100610</td><td>M</td><td>126.53</td><td>512946</td><td>762308</td></tr>\n",
              "\t<tr><th scope=row>5</th><td>101006</td><td>F</td><td>101.85</td><td>429449</td><td>579632</td></tr>\n",
              "\t<tr><th scope=row>6</th><td>101107</td><td>M</td><td>107.04</td><td>416995</td><td>665024</td></tr>\n",
              "</tbody>\n",
              "</table>\n"
            ],
            "text/markdown": "\nA data.frame: 6 × 5\n\n| <!--/--> | Subject &lt;int&gt; | Gender &lt;chr&gt; | Flanker_Unadj &lt;dbl&gt; | FS_Tot_WM_Vol &lt;int&gt; | FS_Total_GM_Vol &lt;int&gt; |\n|---|---|---|---|---|---|\n| 1 | 100206 | M | 130.42 | 543134 | 807245 |\n| 2 | 100307 | F | 112.56 | 407292 | 664124 |\n| 3 | 100408 | M | 121.18 | 500417 | 726206 |\n| 4 | 100610 | M | 126.53 | 512946 | 762308 |\n| 5 | 101006 | F | 101.85 | 429449 | 579632 |\n| 6 | 101107 | M | 107.04 | 416995 | 665024 |\n\n",
            "text/latex": "A data.frame: 6 × 5\n\\begin{tabular}{r|lllll}\n  & Subject & Gender & Flanker\\_Unadj & FS\\_Tot\\_WM\\_Vol & FS\\_Total\\_GM\\_Vol\\\\\n  & <int> & <chr> & <dbl> & <int> & <int>\\\\\n\\hline\n\t1 & 100206 & M & 130.42 & 543134 & 807245\\\\\n\t2 & 100307 & F & 112.56 & 407292 & 664124\\\\\n\t3 & 100408 & M & 121.18 & 500417 & 726206\\\\\n\t4 & 100610 & M & 126.53 & 512946 & 762308\\\\\n\t5 & 101006 & F & 101.85 & 429449 & 579632\\\\\n\t6 & 101107 & M & 107.04 & 416995 & 665024\\\\\n\\end{tabular}\n",
            "text/plain": [
              "  Subject Gender Flanker_Unadj FS_Tot_WM_Vol FS_Total_GM_Vol\n",
              "1 100206  M      130.42        543134        807245         \n",
              "2 100307  F      112.56        407292        664124         \n",
              "3 100408  M      121.18        500417        726206         \n",
              "4 100610  M      126.53        512946        762308         \n",
              "5 101006  F      101.85        429449        579632         \n",
              "6 101107  M      107.04        416995        665024         "
            ]
          },
          "metadata": {}
        }
      ],
      "source": [
        "system(\"gdown --id 1hywRmGdvhbDYTrQRyl1_bLJsq-T3GJq2\")\n",
        "\n",
        "library(tidyverse)\n",
        "hcp_data <- read.csv(\"unrestricted_trimmed_1_7_2020_10_50_44.csv\")\n",
        "d1 <- hcp_data %>%\n",
        "  select(Subject, Gender, Flanker_Unadj, FS_Tot_WM_Vol, FS_Total_GM_Vol)  %>%\n",
        "  filter(!is.na(FS_Total_GM_Vol))\n",
        "head(d1)"
      ]
    },
    {
      "cell_type": "markdown",
      "metadata": {
        "id": "J3owDQ0U2Ewn"
      },
      "source": [
        "b) Now we're going to see if the solutions we proved above actually line up with the model fit that R gives us (it should...). Calculate what the $\\beta_0$ and $\\beta_1$ coefficients should be for a simple linear regression model using `Flanker_Unadj` as $Y$ and `FS_Total_GM_Vol` as $X$. Use the formulas we derived above ($\\beta_1 = Cov[XY]/Var[X]$ , $\\beta_0 = E[Y] - \\beta_1E[X]$). Then use `lm()` to compare the coefficients you calculated with the ones R gives you."
      ]
    },
    {
      "cell_type": "code",
      "execution_count": null,
      "metadata": {
        "id": "mWvD8shRDF5_",
        "vscode": {
          "languageId": "r"
        },
        "outputId": "ad5a4e4a-dfe5-4283-ca53-5b2dac5f00e8",
        "colab": {
          "base_uri": "https://localhost:8080/",
          "height": 69
        }
      },
      "outputs": [
        {
          "output_type": "display_data",
          "data": {
            "text/html": [
              "90.2564608190943"
            ],
            "text/markdown": "90.2564608190943",
            "text/latex": "90.2564608190943",
            "text/plain": [
              "[1] 90.25646"
            ]
          },
          "metadata": {}
        },
        {
          "output_type": "display_data",
          "data": {
            "text/html": [
              "3.10996547106463e-05"
            ],
            "text/markdown": "3.10996547106463e-05",
            "text/latex": "3.10996547106463e-05",
            "text/plain": [
              "[1] 3.109965e-05"
            ]
          },
          "metadata": {}
        },
        {
          "output_type": "display_data",
          "data": {
            "text/html": [
              "<style>\n",
              ".dl-inline {width: auto; margin:0; padding: 0}\n",
              ".dl-inline>dt, .dl-inline>dd {float: none; width: auto; display: inline-block}\n",
              ".dl-inline>dt::after {content: \":\\0020\"; padding-right: .5ex}\n",
              ".dl-inline>dt:not(:first-of-type) {padding-left: .5ex}\n",
              "</style><dl class=dl-inline><dt>(Intercept)</dt><dd>90.2564608190942</dd><dt>FS_Total_GM_Vol</dt><dd>3.10996547106464e-05</dd></dl>\n"
            ],
            "text/markdown": "(Intercept)\n:   90.2564608190942FS_Total_GM_Vol\n:   3.10996547106464e-05\n\n",
            "text/latex": "\\begin{description*}\n\\item[(Intercept)] 90.2564608190942\n\\item[FS\\textbackslash{}\\_Total\\textbackslash{}\\_GM\\textbackslash{}\\_Vol] 3.10996547106464e-05\n\\end{description*}\n",
            "text/plain": [
              "    (Intercept) FS_Total_GM_Vol \n",
              "   9.025646e+01    3.109965e-05 "
            ]
          },
          "metadata": {}
        }
      ],
      "source": [
        "# WRITE YOUR CODE HERE\n",
        "beta1 <- cov(d1$Flanker_Unadj, d1$FS_Total_GM_Vol)/var(d1$FS_Total_GM_Vol)\n",
        "beta0 <- mean(d1$Flanker_Unadj) - beta1*mean(d1$FS_Total_GM_Vol)\n",
        "\n",
        "beta0\n",
        "beta1\n",
        "\n",
        "lm.fit = lm(Flanker_Unadj~FS_Total_GM_Vol, data=d1)\n",
        "coef(lm.fit)\n"
      ]
    },
    {
      "cell_type": "markdown",
      "metadata": {
        "id": "xcnXbsZvDF6B"
      },
      "source": [
        "**DUE:** 5pm EST, Feb 26, 2025"
      ]
    },
    {
      "cell_type": "markdown",
      "metadata": {
        "id": "aG5swCweDF6B"
      },
      "source": [
        "**IMPORTANT** Did you collaborate with anyone on this assignment? If so, list their names here.\n",
        "> *Someone's Name*"
      ]
    }
  ],
  "metadata": {
    "colab": {
      "provenance": [],
      "toc_visible": true,
      "include_colab_link": true
    },
    "kernelspec": {
      "display_name": "R",
      "name": "ir"
    },
    "language_info": {
      "name": "R"
    }
  },
  "nbformat": 4,
  "nbformat_minor": 0
}