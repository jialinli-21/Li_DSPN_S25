{
  "cells": [
    {
      "cell_type": "markdown",
      "metadata": {
        "id": "view-in-github",
        "colab_type": "text"
      },
      "source": [
        "<a href=\"https://colab.research.google.com/github/jialinli-21/Li_DSPN_S25/blob/main/Exercise16.ipynb\" target=\"_parent\"><img src=\"https://colab.research.google.com/assets/colab-badge.svg\" alt=\"Open In Colab\"/></a>"
      ]
    },
    {
      "cell_type": "markdown",
      "metadata": {
        "id": "614c6a4a"
      },
      "source": [
        "# Exercise 16: Model selection"
      ],
      "id": "614c6a4a"
    },
    {
      "cell_type": "markdown",
      "metadata": {
        "id": "7e861f62"
      },
      "source": [
        "This homework is designed to give you practice implementing model selection techniques, including best subset selection and forward/backward stepwise selection.\n",
        "\n",
        "You won't need to load in any data for this homework, we will be simulating our own."
      ],
      "id": "7e861f62"
    },
    {
      "cell_type": "markdown",
      "metadata": {
        "id": "b065256e"
      },
      "source": [
        "---\n",
        "## 1. Best subset selection (4 points)"
      ],
      "id": "b065256e"
    },
    {
      "cell_type": "markdown",
      "metadata": {
        "id": "bfe412c5"
      },
      "source": [
        "In this question, we will first generate simulated data, and then use it to perform best subset selection.\n",
        "\n",
        "a) Use `rnorm()` to generate a dataset including a predictor $X$ of length $n = 100$ and a noise vector $\\epsilon$ of length $n = 100$. Generate data for a response variable $Y$ of length $n = 100$ according to the model\n",
        "\n",
        "$Y = \\beta_0 + \\beta_1X + \\beta_2X^2 + \\beta_3X^3 + \\epsilon$\n",
        "\n",
        "where $\\beta_0$, $\\beta_1$, $\\beta_2$, and $\\beta_3$ are constants of your choice.\n"
      ],
      "id": "bfe412c5"
    },
    {
      "cell_type": "code",
      "execution_count": 72,
      "metadata": {
        "id": "82a01047",
        "vscode": {
          "languageId": "r"
        },
        "colab": {
          "base_uri": "https://localhost:8080/",
          "height": 286
        },
        "outputId": "388523e5-b038-4a9f-8036-816a7dba66e3"
      },
      "outputs": [
        {
          "output_type": "display_data",
          "data": {
            "text/html": [
              "<table class=\"dataframe\">\n",
              "<caption>A data.frame: 6 × 2</caption>\n",
              "<thead>\n",
              "\t<tr><th></th><th scope=col>y</th><th scope=col>x</th></tr>\n",
              "\t<tr><th></th><th scope=col>&lt;dbl&gt;</th><th scope=col>&lt;dbl&gt;</th></tr>\n",
              "</thead>\n",
              "<tbody>\n",
              "\t<tr><th scope=row>1</th><td> 1.7479413</td><td> 0.2588229</td></tr>\n",
              "\t<tr><th scope=row>2</th><td>39.2506067</td><td> 1.8311207</td></tr>\n",
              "\t<tr><th scope=row>3</th><td>-0.6979822</td><td>-0.3396186</td></tr>\n",
              "\t<tr><th scope=row>4</th><td> 9.5634794</td><td> 0.8971982</td></tr>\n",
              "\t<tr><th scope=row>5</th><td> 4.2345246</td><td> 0.4880163</td></tr>\n",
              "\t<tr><th scope=row>6</th><td>-5.0314842</td><td>-1.2553858</td></tr>\n",
              "</tbody>\n",
              "</table>\n"
            ],
            "text/markdown": "\nA data.frame: 6 × 2\n\n| <!--/--> | y &lt;dbl&gt; | x &lt;dbl&gt; |\n|---|---|---|\n| 1 |  1.7479413 |  0.2588229 |\n| 2 | 39.2506067 |  1.8311207 |\n| 3 | -0.6979822 | -0.3396186 |\n| 4 |  9.5634794 |  0.8971982 |\n| 5 |  4.2345246 |  0.4880163 |\n| 6 | -5.0314842 | -1.2553858 |\n\n",
            "text/latex": "A data.frame: 6 × 2\n\\begin{tabular}{r|ll}\n  & y & x\\\\\n  & <dbl> & <dbl>\\\\\n\\hline\n\t1 &  1.7479413 &  0.2588229\\\\\n\t2 & 39.2506067 &  1.8311207\\\\\n\t3 & -0.6979822 & -0.3396186\\\\\n\t4 &  9.5634794 &  0.8971982\\\\\n\t5 &  4.2345246 &  0.4880163\\\\\n\t6 & -5.0314842 & -1.2553858\\\\\n\\end{tabular}\n",
            "text/plain": [
              "  y          x         \n",
              "1  1.7479413  0.2588229\n",
              "2 39.2506067  1.8311207\n",
              "3 -0.6979822 -0.3396186\n",
              "4  9.5634794  0.8971982\n",
              "5  4.2345246  0.4880163\n",
              "6 -5.0314842 -1.2553858"
            ]
          },
          "metadata": {}
        }
      ],
      "source": [
        "\n",
        "set.seed(15)\n",
        "n = 100\n",
        "beta_0 = 1\n",
        "beta_1 = 2\n",
        "beta_2 = 3\n",
        "beta_3 = 4\n",
        "simulate_data <- function(sample_size, beta_0, beta_1, beta_2, beta_3) {\n",
        "      #generate x\n",
        "      x = rnorm(sample_size)\n",
        "      epsilon = rnorm(sample_size)\n",
        "      # generate y\n",
        "      y = beta_0 + beta_1*x + beta_2 * (x^2) + beta_3 * (x^3) + epsilon\n",
        "\n",
        "\n",
        "      return (data.frame(\n",
        "        y = y,\n",
        "        x = x\n",
        "      ))\n",
        "\n",
        "}\n",
        "\n",
        "data <- simulate_data(n,  beta_0, beta_1, beta_2, beta_3)\n",
        "head(data)\n",
        "\n"
      ],
      "id": "82a01047"
    },
    {
      "cell_type": "markdown",
      "metadata": {
        "id": "19065c60"
      },
      "source": [
        "b) Use `regsubsets()` to perform best subset selection to determine the best model that contains the predictor variables $X$, $X^2$, . . . , $X^{10}$. Print the model summary."
      ],
      "id": "19065c60"
    },
    {
      "cell_type": "code",
      "source": [
        "install.packages(\"leaps\")"
      ],
      "metadata": {
        "colab": {
          "base_uri": "https://localhost:8080/"
        },
        "id": "IeWUjNrgzYUx",
        "outputId": "94c15b7c-5a2c-463c-c139-307eca4b2e55"
      },
      "id": "IeWUjNrgzYUx",
      "execution_count": 4,
      "outputs": [
        {
          "output_type": "stream",
          "name": "stderr",
          "text": [
            "Installing package into ‘/usr/local/lib/R/site-library’\n",
            "(as ‘lib’ is unspecified)\n",
            "\n"
          ]
        }
      ]
    },
    {
      "cell_type": "code",
      "execution_count": 74,
      "metadata": {
        "id": "2d0ea51f",
        "vscode": {
          "languageId": "r"
        }
      },
      "outputs": [],
      "source": [
        "library(leaps)\n"
      ],
      "id": "2d0ea51f"
    },
    {
      "cell_type": "code",
      "execution_count": 75,
      "metadata": {
        "id": "e584b852",
        "vscode": {
          "languageId": "r"
        },
        "outputId": "273cc9e9-1a1c-4590-b479-b95ceae3ccb3",
        "colab": {
          "base_uri": "https://localhost:8080/",
          "height": 468
        }
      },
      "outputs": [
        {
          "output_type": "display_data",
          "data": {
            "text/plain": [
              "Subset selection object\n",
              "Call: regsubsets.formula(y ~ ., data = select(data, y, x, x2, x3, x4, \n",
              "    x5, x6, x7, x8, x9, x10))\n",
              "10 Variables  (and intercept)\n",
              "    Forced in Forced out\n",
              "x       FALSE      FALSE\n",
              "x2      FALSE      FALSE\n",
              "x3      FALSE      FALSE\n",
              "x4      FALSE      FALSE\n",
              "x5      FALSE      FALSE\n",
              "x6      FALSE      FALSE\n",
              "x7      FALSE      FALSE\n",
              "x8      FALSE      FALSE\n",
              "x9      FALSE      FALSE\n",
              "x10     FALSE      FALSE\n",
              "1 subsets of each size up to 8\n",
              "Selection Algorithm: exhaustive\n",
              "         x   x2  x3  x4  x5  x6  x7  x8  x9  x10\n",
              "1  ( 1 ) \" \" \" \" \"*\" \" \" \" \" \" \" \" \" \" \" \" \" \" \"\n",
              "2  ( 1 ) \" \" \"*\" \"*\" \" \" \" \" \" \" \" \" \" \" \" \" \" \"\n",
              "3  ( 1 ) \"*\" \"*\" \"*\" \" \" \" \" \" \" \" \" \" \" \" \" \" \"\n",
              "4  ( 1 ) \"*\" \"*\" \"*\" \" \" \" \" \"*\" \" \" \" \" \" \" \" \"\n",
              "5  ( 1 ) \"*\" \"*\" \"*\" \" \" \"*\" \"*\" \" \" \" \" \" \" \" \"\n",
              "6  ( 1 ) \"*\" \" \" \"*\" \"*\" \" \" \"*\" \" \" \"*\" \" \" \"*\"\n",
              "7  ( 1 ) \"*\" \"*\" \"*\" \"*\" \" \" \"*\" \" \" \"*\" \" \" \"*\"\n",
              "8  ( 1 ) \"*\" \"*\" \"*\" \"*\" \"*\" \"*\" \" \" \"*\" \" \" \"*\""
            ]
          },
          "metadata": {}
        }
      ],
      "source": [
        "library(dplyr)\n",
        "library(leaps)\n",
        "\n",
        "data <- data %>%\n",
        "  mutate(\n",
        "    x2 = x^2,\n",
        "    x3 = x^3,\n",
        "    x4 = x^4,\n",
        "    x5 = x^5,\n",
        "    x6 = x^6,\n",
        "    x7 = x^7,\n",
        "    x8 = x^8,\n",
        "    x9 = x^9,\n",
        "    x10 = x^10\n",
        "  )\n",
        "\n",
        "# head(data)\n",
        "\n",
        "regfit.full <- regsubsets(\n",
        "  y ~ .,\n",
        "  data = select(data, y, x, x2, x3, x4, x5, x6, x7, x8, x9, x10)\n",
        ")\n",
        "\n",
        "reg.summary = summary(regfit.full)\n",
        "reg.summary"
      ],
      "id": "e584b852"
    },
    {
      "cell_type": "markdown",
      "metadata": {
        "id": "3528231b"
      },
      "source": [
        "c) Plot the Mallows' Cp, Bayesian Information Criteria (BIC) and the adjusted coefficient of determination, $R^2$, for each model tested. Which is the best model? Report the coefficients of the best model."
      ],
      "id": "3528231b"
    },
    {
      "cell_type": "code",
      "execution_count": 76,
      "metadata": {
        "id": "6a817913",
        "vscode": {
          "languageId": "r"
        },
        "outputId": "ac0f6644-d005-47e5-ac81-17328b4e39c0",
        "colab": {
          "base_uri": "https://localhost:8080/",
          "height": 1000
        }
      },
      "outputs": [
        {
          "output_type": "display_data",
          "data": {
            "text/plain": [
              "plot without title"
            ],
            "image/png": "[encoded data removed]"
          },
          "metadata": {
            "image/png": {
              "width": 420,
              "height": 420
            }
          }
        },
        {
          "output_type": "display_data",
          "data": {
            "text/plain": [
              "plot without title"
            ],
            "image/png": "[encoded data removed]"
          },
          "metadata": {
            "image/png": {
              "width": 420,
              "height": 420
            }
          }
        },
        {
          "output_type": "display_data",
          "data": {
            "text/plain": [
              "plot without title"
            ],
            "image/png": "[encoded data removed]"
          },
          "metadata": {
            "image/png": {
              "width": 420,
              "height": 420
            }
          }
        }
      ],
      "source": [
        "\n",
        "numvar = 1:length(reg.summary$rss)\n",
        "allfalse = rep(FALSE,length(reg.summary$rss))\n",
        "\n",
        "#mallow's cp\n",
        "cp.df <- data.frame(numvar = numvar, cp <- reg.summary$cp, mincp <- allfalse)\n",
        "cp.df$mincp[which.min(reg.summary$cp)] <- TRUE\n",
        "ggplot(cp.df,aes(x=numvar,y=cp,shape=mincp,col=mincp)) +\n",
        "    geom_point(size=3) + theme_light() +\n",
        "    labs(x = \"Number of Variables\", y = \"Mallow's CP\", color=\"Maximum CP\", shape=\"Maximum CP\")\n",
        "\n",
        "\n",
        "# #bic\n",
        "bic.df <- data.frame(numvar = numvar,bic <- reg.summary$bic, minbic <- allfalse)\n",
        "bic.df$minbic[which.min(reg.summary$bic)] <- TRUE\n",
        "ggplot(bic.df,aes(x=numvar,y=bic,shape=minbic,col=minbic)) +\n",
        "    geom_point(size=3) + theme_light() +\n",
        "    labs(x = \"Number of Variables\", y = \"BIC\", color=\"Minimum BIC\", shape=\"Minimum BIC\")\n",
        "#adjr2\n",
        "adjr2.df <- data.frame(numvar = numvar, adjr2 <- reg.summary$adjr2, maxadjr2 <- allfalse)\n",
        "adjr2.df$maxadjr2[which.max(reg.summary$adjr2)] <- TRUE\n",
        "ggplot(adjr2.df,aes(x=numvar,y=adjr2,shape=maxadjr2,col=maxadjr2)) +\n",
        "    geom_point(size=3) + theme_light() +\n",
        "    labs(x = \"Number of Variables\", y = 'Adj'~R^2, color='Maximum Adj'~R^2, shape='Maximum Adj'~R^2)\n",
        "\n"
      ],
      "id": "6a817913"
    },
    {
      "cell_type": "code",
      "source": [
        "plot(regfit.full, scale=\"Cp\") #Mallow's Cp\n",
        "plot(regfit.full, scale=\"bic\") #BIC\n",
        "plot(regfit.full, scale=\"adjr2\") #adjusted R^2"
      ],
      "metadata": {
        "id": "CnVd8Ao69wbY",
        "outputId": "a7f1474a-264c-4647-8d0c-1fc2829ca210",
        "colab": {
          "base_uri": "https://localhost:8080/",
          "height": 1000
        }
      },
      "id": "CnVd8Ao69wbY",
      "execution_count": 77,
      "outputs": [
        {
          "output_type": "display_data",
          "data": {
            "text/plain": [
              "plot without title"
            ],
            "image/png": "[encoded data removed]"
          },
          "metadata": {
            "image/png": {
              "width": 420,
              "height": 420
            }
          }
        },
        {
          "output_type": "display_data",
          "data": {
            "text/plain": [
              "plot without title"
            ],
            "image/png": "[encoded data removed]"
          },
          "metadata": {
            "image/png": {
              "width": 420,
              "height": 420
            }
          }
        },
        {
          "output_type": "display_data",
          "data": {
            "text/plain": [
              "plot without title"
            ],
            "image/png": "[encoded data removed]"
          },
          "metadata": {
            "image/png": {
              "width": 420,
              "height": 420
            }
          }
        }
      ]
    },
    {
      "cell_type": "code",
      "source": [
        "# identify which model has the best bias-adjusted fit\n",
        "which.min(reg.summary$bic)\n",
        "which.max(reg.summary$adjr2)\n",
        "which.min(reg.summary$cp)"
      ],
      "metadata": {
        "id": "WgjfYTle93sR",
        "outputId": "f0956e6c-bd88-4359-ac6c-5ec355bb8646",
        "colab": {
          "base_uri": "https://localhost:8080/",
          "height": 69
        }
      },
      "id": "WgjfYTle93sR",
      "execution_count": 78,
      "outputs": [
        {
          "output_type": "display_data",
          "data": {
            "text/html": [
              "4"
            ],
            "text/markdown": "4",
            "text/latex": "4",
            "text/plain": [
              "[1] 4"
            ]
          },
          "metadata": {}
        },
        {
          "output_type": "display_data",
          "data": {
            "text/html": [
              "7"
            ],
            "text/markdown": "7",
            "text/latex": "7",
            "text/plain": [
              "[1] 7"
            ]
          },
          "metadata": {}
        },
        {
          "output_type": "display_data",
          "data": {
            "text/html": [
              "4"
            ],
            "text/markdown": "4",
            "text/latex": "4",
            "text/plain": [
              "[1] 4"
            ]
          },
          "metadata": {}
        }
      ]
    },
    {
      "cell_type": "code",
      "source": [
        "#best model -- bic and cp\n",
        "mod1 = lm(y ~ x + x2 + x3 + x6, data = data)\n",
        "summary(mod1)\n",
        "summary(mod1)$coefficients"
      ],
      "metadata": {
        "id": "Y02lWy_m-2E1",
        "outputId": "b162a168-640a-4618-91f3-46671e385df5",
        "colab": {
          "base_uri": "https://localhost:8080/",
          "height": 588
        }
      },
      "id": "Y02lWy_m-2E1",
      "execution_count": 79,
      "outputs": [
        {
          "output_type": "display_data",
          "data": {
            "text/plain": [
              "\n",
              "Call:\n",
              "lm(formula = y ~ x + x2 + x3 + x6, data = data)\n",
              "\n",
              "Residuals:\n",
              "    Min      1Q  Median      3Q     Max \n",
              "-2.3435 -0.6289  0.1028  0.7276  2.4280 \n",
              "\n",
              "Coefficients:\n",
              "             Estimate Std. Error t value Pr(>|t|)    \n",
              "(Intercept)  0.569612   0.152536   3.734 0.000321 ***\n",
              "x            2.031967   0.186485  10.896  < 2e-16 ***\n",
              "x2           3.500866   0.154192  22.705  < 2e-16 ***\n",
              "x3           3.990805   0.060118  66.383  < 2e-16 ***\n",
              "x6          -0.017301   0.005372  -3.220 0.001754 ** \n",
              "---\n",
              "Signif. codes:  0 ‘***’ 0.001 ‘**’ 0.01 ‘*’ 0.05 ‘.’ 0.1 ‘ ’ 1\n",
              "\n",
              "Residual standard error: 1.058 on 95 degrees of freedom\n",
              "Multiple R-squared:  0.9959,\tAdjusted R-squared:  0.9957 \n",
              "F-statistic:  5760 on 4 and 95 DF,  p-value: < 2.2e-16\n"
            ]
          },
          "metadata": {}
        },
        {
          "output_type": "display_data",
          "data": {
            "text/html": [
              "<table class=\"dataframe\">\n",
              "<caption>A matrix: 5 × 4 of type dbl</caption>\n",
              "<thead>\n",
              "\t<tr><th></th><th scope=col>Estimate</th><th scope=col>Std. Error</th><th scope=col>t value</th><th scope=col>Pr(&gt;|t|)</th></tr>\n",
              "</thead>\n",
              "<tbody>\n",
              "\t<tr><th scope=row>(Intercept)</th><td> 0.56961161</td><td>0.152535713</td><td> 3.734284</td><td>3.209200e-04</td></tr>\n",
              "\t<tr><th scope=row>x</th><td> 2.03196689</td><td>0.186485445</td><td>10.896115</td><td>2.040752e-18</td></tr>\n",
              "\t<tr><th scope=row>x2</th><td> 3.50086631</td><td>0.154192301</td><td>22.704547</td><td>3.713342e-40</td></tr>\n",
              "\t<tr><th scope=row>x3</th><td> 3.99080549</td><td>0.060117502</td><td>66.383422</td><td>2.102262e-81</td></tr>\n",
              "\t<tr><th scope=row>x6</th><td>-0.01730072</td><td>0.005372414</td><td>-3.220289</td><td>1.753567e-03</td></tr>\n",
              "</tbody>\n",
              "</table>\n"
            ],
            "text/markdown": "\nA matrix: 5 × 4 of type dbl\n\n| <!--/--> | Estimate | Std. Error | t value | Pr(&gt;|t|) |\n|---|---|---|---|---|\n| (Intercept) |  0.56961161 | 0.152535713 |  3.734284 | 3.209200e-04 |\n| x |  2.03196689 | 0.186485445 | 10.896115 | 2.040752e-18 |\n| x2 |  3.50086631 | 0.154192301 | 22.704547 | 3.713342e-40 |\n| x3 |  3.99080549 | 0.060117502 | 66.383422 | 2.102262e-81 |\n| x6 | -0.01730072 | 0.005372414 | -3.220289 | 1.753567e-03 |\n\n",
            "text/latex": "A matrix: 5 × 4 of type dbl\n\\begin{tabular}{r|llll}\n  & Estimate & Std. Error & t value & Pr(>\\textbar{}t\\textbar{})\\\\\n\\hline\n\t(Intercept) &  0.56961161 & 0.152535713 &  3.734284 & 3.209200e-04\\\\\n\tx &  2.03196689 & 0.186485445 & 10.896115 & 2.040752e-18\\\\\n\tx2 &  3.50086631 & 0.154192301 & 22.704547 & 3.713342e-40\\\\\n\tx3 &  3.99080549 & 0.060117502 & 66.383422 & 2.102262e-81\\\\\n\tx6 & -0.01730072 & 0.005372414 & -3.220289 & 1.753567e-03\\\\\n\\end{tabular}\n",
            "text/plain": [
              "            Estimate    Std. Error  t value   Pr(>|t|)    \n",
              "(Intercept)  0.56961161 0.152535713  3.734284 3.209200e-04\n",
              "x            2.03196689 0.186485445 10.896115 2.040752e-18\n",
              "x2           3.50086631 0.154192301 22.704547 3.713342e-40\n",
              "x3           3.99080549 0.060117502 66.383422 2.102262e-81\n",
              "x6          -0.01730072 0.005372414 -3.220289 1.753567e-03"
            ]
          },
          "metadata": {}
        }
      ]
    },
    {
      "cell_type": "code",
      "source": [
        "#best model -- r2\n",
        "mod2 = lm(y ~ x + x2 + x3 +x4 + x6+x8+x10, data = data)\n",
        "summary(mod2)\n",
        "summary(mod2)$coefficients"
      ],
      "metadata": {
        "id": "7UH6cR0b_PSl",
        "outputId": "20b71d28-fb21-4517-d74c-c3541676fc85",
        "colab": {
          "base_uri": "https://localhost:8080/",
          "height": 734
        }
      },
      "id": "7UH6cR0b_PSl",
      "execution_count": 80,
      "outputs": [
        {
          "output_type": "display_data",
          "data": {
            "text/plain": [
              "\n",
              "Call:\n",
              "lm(formula = y ~ x + x2 + x3 + x4 + x6 + x8 + x10, data = data)\n",
              "\n",
              "Residuals:\n",
              "     Min       1Q   Median       3Q      Max \n",
              "-2.34476 -0.64380  0.09738  0.59793  2.43688 \n",
              "\n",
              "Coefficients:\n",
              "            Estimate Std. Error t value Pr(>|t|)    \n",
              "(Intercept)  0.78998    0.22310   3.541 0.000628 ***\n",
              "x            2.03229    0.18480  10.997  < 2e-16 ***\n",
              "x2           1.31659    1.27187   1.035 0.303307    \n",
              "x3           3.99963    0.06036  66.260  < 2e-16 ***\n",
              "x4           3.40354    1.71524   1.984 0.050202 .  \n",
              "x6          -1.83975    0.86254  -2.133 0.035592 *  \n",
              "x8           0.38471    0.17763   2.166 0.032910 *  \n",
              "x10         -0.02759    0.01265  -2.180 0.031811 *  \n",
              "---\n",
              "Signif. codes:  0 ‘***’ 0.001 ‘**’ 0.01 ‘*’ 0.05 ‘.’ 0.1 ‘ ’ 1\n",
              "\n",
              "Residual standard error: 1.049 on 92 degrees of freedom\n",
              "Multiple R-squared:  0.9961,\tAdjusted R-squared:  0.9958 \n",
              "F-statistic:  3354 on 7 and 92 DF,  p-value: < 2.2e-16\n"
            ]
          },
          "metadata": {}
        },
        {
          "output_type": "display_data",
          "data": {
            "text/html": [
              "<table class=\"dataframe\">\n",
              "<caption>A matrix: 8 × 4 of type dbl</caption>\n",
              "<thead>\n",
              "\t<tr><th></th><th scope=col>Estimate</th><th scope=col>Std. Error</th><th scope=col>t value</th><th scope=col>Pr(&gt;|t|)</th></tr>\n",
              "</thead>\n",
              "<tbody>\n",
              "\t<tr><th scope=row>(Intercept)</th><td> 0.78997778</td><td>0.22310055</td><td> 3.540905</td><td>6.280016e-04</td></tr>\n",
              "\t<tr><th scope=row>x</th><td> 2.03229059</td><td>0.18480107</td><td>10.997180</td><td>1.874393e-18</td></tr>\n",
              "\t<tr><th scope=row>x2</th><td> 1.31658708</td><td>1.27186673</td><td> 1.035161</td><td>3.033070e-01</td></tr>\n",
              "\t<tr><th scope=row>x3</th><td> 3.99962606</td><td>0.06036264</td><td>66.259962</td><td>1.941343e-79</td></tr>\n",
              "\t<tr><th scope=row>x4</th><td> 3.40354276</td><td>1.71523662</td><td> 1.984299</td><td>5.020223e-02</td></tr>\n",
              "\t<tr><th scope=row>x6</th><td>-1.83974566</td><td>0.86254223</td><td>-2.132934</td><td>3.559237e-02</td></tr>\n",
              "\t<tr><th scope=row>x8</th><td> 0.38471197</td><td>0.17762837</td><td> 2.165825</td><td>3.291039e-02</td></tr>\n",
              "\t<tr><th scope=row>x10</th><td>-0.02758752</td><td>0.01265488</td><td>-2.179991</td><td>3.181056e-02</td></tr>\n",
              "</tbody>\n",
              "</table>\n"
            ],
            "text/markdown": "\nA matrix: 8 × 4 of type dbl\n\n| <!--/--> | Estimate | Std. Error | t value | Pr(&gt;|t|) |\n|---|---|---|---|---|\n| (Intercept) |  0.78997778 | 0.22310055 |  3.540905 | 6.280016e-04 |\n| x |  2.03229059 | 0.18480107 | 10.997180 | 1.874393e-18 |\n| x2 |  1.31658708 | 1.27186673 |  1.035161 | 3.033070e-01 |\n| x3 |  3.99962606 | 0.06036264 | 66.259962 | 1.941343e-79 |\n| x4 |  3.40354276 | 1.71523662 |  1.984299 | 5.020223e-02 |\n| x6 | -1.83974566 | 0.86254223 | -2.132934 | 3.559237e-02 |\n| x8 |  0.38471197 | 0.17762837 |  2.165825 | 3.291039e-02 |\n| x10 | -0.02758752 | 0.01265488 | -2.179991 | 3.181056e-02 |\n\n",
            "text/latex": "A matrix: 8 × 4 of type dbl\n\\begin{tabular}{r|llll}\n  & Estimate & Std. Error & t value & Pr(>\\textbar{}t\\textbar{})\\\\\n\\hline\n\t(Intercept) &  0.78997778 & 0.22310055 &  3.540905 & 6.280016e-04\\\\\n\tx &  2.03229059 & 0.18480107 & 10.997180 & 1.874393e-18\\\\\n\tx2 &  1.31658708 & 1.27186673 &  1.035161 & 3.033070e-01\\\\\n\tx3 &  3.99962606 & 0.06036264 & 66.259962 & 1.941343e-79\\\\\n\tx4 &  3.40354276 & 1.71523662 &  1.984299 & 5.020223e-02\\\\\n\tx6 & -1.83974566 & 0.86254223 & -2.132934 & 3.559237e-02\\\\\n\tx8 &  0.38471197 & 0.17762837 &  2.165825 & 3.291039e-02\\\\\n\tx10 & -0.02758752 & 0.01265488 & -2.179991 & 3.181056e-02\\\\\n\\end{tabular}\n",
            "text/plain": [
              "            Estimate    Std. Error t value   Pr(>|t|)    \n",
              "(Intercept)  0.78997778 0.22310055  3.540905 6.280016e-04\n",
              "x            2.03229059 0.18480107 10.997180 1.874393e-18\n",
              "x2           1.31658708 1.27186673  1.035161 3.033070e-01\n",
              "x3           3.99962606 0.06036264 66.259962 1.941343e-79\n",
              "x4           3.40354276 1.71523662  1.984299 5.020223e-02\n",
              "x6          -1.83974566 0.86254223 -2.132934 3.559237e-02\n",
              "x8           0.38471197 0.17762837  2.165825 3.291039e-02\n",
              "x10         -0.02758752 0.01265488 -2.179991 3.181056e-02"
            ]
          },
          "metadata": {}
        }
      ]
    },
    {
      "cell_type": "markdown",
      "metadata": {
        "id": "e7f16d76"
      },
      "source": [
        "> *Best model from BIC and Mallows' Cp contains x, x2, x3, and x6.*\n",
        "> *Best model from adjusted r squared contains x, x2, x3,x4,x6,x8 and x10. Coefficients are reported above.*"
      ],
      "id": "e7f16d76"
    },
    {
      "cell_type": "markdown",
      "metadata": {
        "id": "19d388b0"
      },
      "source": [
        "---\n",
        "## 2. Forward and backwards stepwise selection (3 points)"
      ],
      "id": "19d388b0"
    },
    {
      "cell_type": "markdown",
      "metadata": {
        "id": "620dc14c"
      },
      "source": [
        "Using the same simulated data from question 1, use forward stepwise selection, and backwards stepwise selections to determine the best model. Again, for both model selection methods, plot the Mallows' Cp, Bayesian Information Criteria (BIC) and the adjusted coefficient of determination, $R^2$, for each model tested. Report the coefficients of the best model."
      ],
      "id": "620dc14c"
    },
    {
      "cell_type": "markdown",
      "metadata": {
        "id": "d734954e"
      },
      "source": [
        "a) Forward stepwise selection:"
      ],
      "id": "d734954e"
    },
    {
      "cell_type": "code",
      "execution_count": 81,
      "metadata": {
        "id": "8018ba62",
        "vscode": {
          "languageId": "r"
        },
        "outputId": "f5468b75-50c7-4fb0-f855-eabb973098cc",
        "colab": {
          "base_uri": "https://localhost:8080/",
          "height": 451
        }
      },
      "outputs": [
        {
          "output_type": "display_data",
          "data": {
            "text/plain": [
              "Subset selection object\n",
              "Call: regsubsets.formula(y ~ ., data = data, method = \"forward\")\n",
              "10 Variables  (and intercept)\n",
              "    Forced in Forced out\n",
              "x       FALSE      FALSE\n",
              "x2      FALSE      FALSE\n",
              "x3      FALSE      FALSE\n",
              "x4      FALSE      FALSE\n",
              "x5      FALSE      FALSE\n",
              "x6      FALSE      FALSE\n",
              "x7      FALSE      FALSE\n",
              "x8      FALSE      FALSE\n",
              "x9      FALSE      FALSE\n",
              "x10     FALSE      FALSE\n",
              "1 subsets of each size up to 8\n",
              "Selection Algorithm: forward\n",
              "         x   x2  x3  x4  x5  x6  x7  x8  x9  x10\n",
              "1  ( 1 ) \" \" \" \" \"*\" \" \" \" \" \" \" \" \" \" \" \" \" \" \"\n",
              "2  ( 1 ) \" \" \"*\" \"*\" \" \" \" \" \" \" \" \" \" \" \" \" \" \"\n",
              "3  ( 1 ) \"*\" \"*\" \"*\" \" \" \" \" \" \" \" \" \" \" \" \" \" \"\n",
              "4  ( 1 ) \"*\" \"*\" \"*\" \" \" \" \" \"*\" \" \" \" \" \" \" \" \"\n",
              "5  ( 1 ) \"*\" \"*\" \"*\" \" \" \"*\" \"*\" \" \" \" \" \" \" \" \"\n",
              "6  ( 1 ) \"*\" \"*\" \"*\" \" \" \"*\" \"*\" \"*\" \" \" \" \" \" \"\n",
              "7  ( 1 ) \"*\" \"*\" \"*\" \" \" \"*\" \"*\" \"*\" \" \" \"*\" \" \"\n",
              "8  ( 1 ) \"*\" \"*\" \"*\" \" \" \"*\" \"*\" \"*\" \"*\" \"*\" \" \""
            ]
          },
          "metadata": {}
        }
      ],
      "source": [
        "regfit.forward = regsubsets(y ~ ., data = data, method = \"forward\")\n",
        "regfit.forward.sum = summary(regfit.forward)\n",
        "regfit.forward.sum\n"
      ],
      "id": "8018ba62"
    },
    {
      "cell_type": "code",
      "source": [
        "plot(regfit.forward, scale=\"bic\")\n",
        "plot(regfit.forward, scale=\"adjr2\")\n",
        "plot(regfit.forward, scale=\"Cp\")"
      ],
      "metadata": {
        "id": "Z-3wthF7_n7H",
        "outputId": "29636483-064f-4abe-e6e1-06f967e27c51",
        "colab": {
          "base_uri": "https://localhost:8080/",
          "height": 1000
        }
      },
      "id": "Z-3wthF7_n7H",
      "execution_count": 82,
      "outputs": [
        {
          "output_type": "display_data",
          "data": {
            "text/plain": [
              "plot without title"
            ],
            "image/png": "[encoded data removed]"
          },
          "metadata": {
            "image/png": {
              "width": 420,
              "height": 420
            }
          }
        },
        {
          "output_type": "display_data",
          "data": {
            "text/plain": [
              "plot without title"
            ],
            "image/png": "[encoded data removed]"
          },
          "metadata": {
            "image/png": {
              "width": 420,
              "height": 420
            }
          }
        },
        {
          "output_type": "display_data",
          "data": {
            "text/plain": [
              "plot without title"
            ],
            "image/png": "[encoded data removed]"
          },
          "metadata": {
            "image/png": {
              "width": 420,
              "height": 420
            }
          }
        }
      ]
    },
    {
      "cell_type": "code",
      "source": [
        "# identify which model has the best bias-adjusted fit\n",
        "which.min(regfit.forward.sum$bic)\n",
        "which.max(regfit.forward.sum$adjr2)\n",
        "which.min(regfit.forward.sum$cp)"
      ],
      "metadata": {
        "id": "ySJc__IN-YV5",
        "outputId": "2cbe19b2-3975-4bff-bbdc-d10ec735d670",
        "colab": {
          "base_uri": "https://localhost:8080/",
          "height": 69
        }
      },
      "id": "ySJc__IN-YV5",
      "execution_count": 83,
      "outputs": [
        {
          "output_type": "display_data",
          "data": {
            "text/html": [
              "4"
            ],
            "text/markdown": "4",
            "text/latex": "4",
            "text/plain": [
              "[1] 4"
            ]
          },
          "metadata": {}
        },
        {
          "output_type": "display_data",
          "data": {
            "text/html": [
              "4"
            ],
            "text/markdown": "4",
            "text/latex": "4",
            "text/plain": [
              "[1] 4"
            ]
          },
          "metadata": {}
        },
        {
          "output_type": "display_data",
          "data": {
            "text/html": [
              "4"
            ],
            "text/markdown": "4",
            "text/latex": "4",
            "text/plain": [
              "[1] 4"
            ]
          },
          "metadata": {}
        }
      ]
    },
    {
      "cell_type": "code",
      "source": [
        "mod_forward = lm(y ~ x + x2 + x3+ x6, data = data)\n",
        "summary(mod_forward)\n",
        "summary(mod_forward)$coefficients"
      ],
      "metadata": {
        "id": "yB9mUzSj_uSF",
        "outputId": "a9d3418a-f534-4234-9829-9c92d41398f6",
        "colab": {
          "base_uri": "https://localhost:8080/",
          "height": 588
        }
      },
      "id": "yB9mUzSj_uSF",
      "execution_count": 84,
      "outputs": [
        {
          "output_type": "display_data",
          "data": {
            "text/plain": [
              "\n",
              "Call:\n",
              "lm(formula = y ~ x + x2 + x3 + x6, data = data)\n",
              "\n",
              "Residuals:\n",
              "    Min      1Q  Median      3Q     Max \n",
              "-2.3435 -0.6289  0.1028  0.7276  2.4280 \n",
              "\n",
              "Coefficients:\n",
              "             Estimate Std. Error t value Pr(>|t|)    \n",
              "(Intercept)  0.569612   0.152536   3.734 0.000321 ***\n",
              "x            2.031967   0.186485  10.896  < 2e-16 ***\n",
              "x2           3.500866   0.154192  22.705  < 2e-16 ***\n",
              "x3           3.990805   0.060118  66.383  < 2e-16 ***\n",
              "x6          -0.017301   0.005372  -3.220 0.001754 ** \n",
              "---\n",
              "Signif. codes:  0 ‘***’ 0.001 ‘**’ 0.01 ‘*’ 0.05 ‘.’ 0.1 ‘ ’ 1\n",
              "\n",
              "Residual standard error: 1.058 on 95 degrees of freedom\n",
              "Multiple R-squared:  0.9959,\tAdjusted R-squared:  0.9957 \n",
              "F-statistic:  5760 on 4 and 95 DF,  p-value: < 2.2e-16\n"
            ]
          },
          "metadata": {}
        },
        {
          "output_type": "display_data",
          "data": {
            "text/html": [
              "<table class=\"dataframe\">\n",
              "<caption>A matrix: 5 × 4 of type dbl</caption>\n",
              "<thead>\n",
              "\t<tr><th></th><th scope=col>Estimate</th><th scope=col>Std. Error</th><th scope=col>t value</th><th scope=col>Pr(&gt;|t|)</th></tr>\n",
              "</thead>\n",
              "<tbody>\n",
              "\t<tr><th scope=row>(Intercept)</th><td> 0.56961161</td><td>0.152535713</td><td> 3.734284</td><td>3.209200e-04</td></tr>\n",
              "\t<tr><th scope=row>x</th><td> 2.03196689</td><td>0.186485445</td><td>10.896115</td><td>2.040752e-18</td></tr>\n",
              "\t<tr><th scope=row>x2</th><td> 3.50086631</td><td>0.154192301</td><td>22.704547</td><td>3.713342e-40</td></tr>\n",
              "\t<tr><th scope=row>x3</th><td> 3.99080549</td><td>0.060117502</td><td>66.383422</td><td>2.102262e-81</td></tr>\n",
              "\t<tr><th scope=row>x6</th><td>-0.01730072</td><td>0.005372414</td><td>-3.220289</td><td>1.753567e-03</td></tr>\n",
              "</tbody>\n",
              "</table>\n"
            ],
            "text/markdown": "\nA matrix: 5 × 4 of type dbl\n\n| <!--/--> | Estimate | Std. Error | t value | Pr(&gt;|t|) |\n|---|---|---|---|---|\n| (Intercept) |  0.56961161 | 0.152535713 |  3.734284 | 3.209200e-04 |\n| x |  2.03196689 | 0.186485445 | 10.896115 | 2.040752e-18 |\n| x2 |  3.50086631 | 0.154192301 | 22.704547 | 3.713342e-40 |\n| x3 |  3.99080549 | 0.060117502 | 66.383422 | 2.102262e-81 |\n| x6 | -0.01730072 | 0.005372414 | -3.220289 | 1.753567e-03 |\n\n",
            "text/latex": "A matrix: 5 × 4 of type dbl\n\\begin{tabular}{r|llll}\n  & Estimate & Std. Error & t value & Pr(>\\textbar{}t\\textbar{})\\\\\n\\hline\n\t(Intercept) &  0.56961161 & 0.152535713 &  3.734284 & 3.209200e-04\\\\\n\tx &  2.03196689 & 0.186485445 & 10.896115 & 2.040752e-18\\\\\n\tx2 &  3.50086631 & 0.154192301 & 22.704547 & 3.713342e-40\\\\\n\tx3 &  3.99080549 & 0.060117502 & 66.383422 & 2.102262e-81\\\\\n\tx6 & -0.01730072 & 0.005372414 & -3.220289 & 1.753567e-03\\\\\n\\end{tabular}\n",
            "text/plain": [
              "            Estimate    Std. Error  t value   Pr(>|t|)    \n",
              "(Intercept)  0.56961161 0.152535713  3.734284 3.209200e-04\n",
              "x            2.03196689 0.186485445 10.896115 2.040752e-18\n",
              "x2           3.50086631 0.154192301 22.704547 3.713342e-40\n",
              "x3           3.99080549 0.060117502 66.383422 2.102262e-81\n",
              "x6          -0.01730072 0.005372414 -3.220289 1.753567e-03"
            ]
          },
          "metadata": {}
        }
      ]
    },
    {
      "cell_type": "markdown",
      "metadata": {
        "id": "955e381d"
      },
      "source": [
        "b) Backwards stepwise selection:"
      ],
      "id": "955e381d"
    },
    {
      "cell_type": "code",
      "execution_count": 85,
      "metadata": {
        "id": "c9a50756",
        "vscode": {
          "languageId": "r"
        },
        "outputId": "055006e0-bda8-4e2f-bd35-2c2dd9e4c3e4",
        "colab": {
          "base_uri": "https://localhost:8080/",
          "height": 451
        }
      },
      "outputs": [
        {
          "output_type": "display_data",
          "data": {
            "text/plain": [
              "Subset selection object\n",
              "Call: regsubsets.formula(y ~ ., data = data, method = \"backward\")\n",
              "10 Variables  (and intercept)\n",
              "    Forced in Forced out\n",
              "x       FALSE      FALSE\n",
              "x2      FALSE      FALSE\n",
              "x3      FALSE      FALSE\n",
              "x4      FALSE      FALSE\n",
              "x5      FALSE      FALSE\n",
              "x6      FALSE      FALSE\n",
              "x7      FALSE      FALSE\n",
              "x8      FALSE      FALSE\n",
              "x9      FALSE      FALSE\n",
              "x10     FALSE      FALSE\n",
              "1 subsets of each size up to 8\n",
              "Selection Algorithm: backward\n",
              "         x   x2  x3  x4  x5  x6  x7  x8  x9  x10\n",
              "1  ( 1 ) \" \" \" \" \"*\" \" \" \" \" \" \" \" \" \" \" \" \" \" \"\n",
              "2  ( 1 ) \" \" \" \" \"*\" \"*\" \" \" \" \" \" \" \" \" \" \" \" \"\n",
              "3  ( 1 ) \" \" \" \" \"*\" \"*\" \" \" \"*\" \" \" \" \" \" \" \" \"\n",
              "4  ( 1 ) \"*\" \" \" \"*\" \"*\" \" \" \"*\" \" \" \" \" \" \" \" \"\n",
              "5  ( 1 ) \"*\" \" \" \"*\" \"*\" \" \" \"*\" \" \" \"*\" \" \" \" \"\n",
              "6  ( 1 ) \"*\" \" \" \"*\" \"*\" \" \" \"*\" \" \" \"*\" \" \" \"*\"\n",
              "7  ( 1 ) \"*\" \" \" \"*\" \"*\" \" \" \"*\" \"*\" \"*\" \" \" \"*\"\n",
              "8  ( 1 ) \"*\" \" \" \"*\" \"*\" \" \" \"*\" \"*\" \"*\" \"*\" \"*\""
            ]
          },
          "metadata": {}
        }
      ],
      "source": [
        "regfit.backward = regsubsets(y ~ ., data = data, method = \"backward\")\n",
        "regfit.backward.sum = summary(regfit.backward)\n",
        "regfit.backward.sum\n"
      ],
      "id": "c9a50756"
    },
    {
      "cell_type": "code",
      "source": [
        "plot(regfit.backward, scale=\"bic\")\n",
        "plot(regfit.backward, scale=\"adjr2\")\n",
        "plot(regfit.backward, scale=\"Cp\")"
      ],
      "metadata": {
        "id": "OkqU6G22ANd7",
        "outputId": "5d0ca278-5574-48c2-e030-9e2664d72c0f",
        "colab": {
          "base_uri": "https://localhost:8080/",
          "height": 1000
        }
      },
      "id": "OkqU6G22ANd7",
      "execution_count": 86,
      "outputs": [
        {
          "output_type": "display_data",
          "data": {
            "text/plain": [
              "plot without title"
            ],
            "image/png": "[encoded data removed]"
          },
          "metadata": {
            "image/png": {
              "width": 420,
              "height": 420
            }
          }
        },
        {
          "output_type": "display_data",
          "data": {
            "text/plain": [
              "plot without title"
            ],
            "image/png": "[encoded data removed]"
          },
          "metadata": {
            "image/png": {
              "width": 420,
              "height": 420
            }
          }
        },
        {
          "output_type": "display_data",
          "data": {
            "text/plain": [
              "plot without title"
            ],
            "image/png": "[encoded data removed]"
          },
          "metadata": {
            "image/png": {
              "width": 420,
              "height": 420
            }
          }
        }
      ]
    },
    {
      "cell_type": "code",
      "source": [
        "which.min(regfit.backward.sum$bic)\n",
        "which.max(regfit.backward.sum$adjr2)\n",
        "which.min(regfit.backward.sum$cp)"
      ],
      "metadata": {
        "id": "NjUuWEfgATI2",
        "outputId": "774420f0-8539-4252-c91d-094347fef694",
        "colab": {
          "base_uri": "https://localhost:8080/",
          "height": 69
        }
      },
      "id": "NjUuWEfgATI2",
      "execution_count": 87,
      "outputs": [
        {
          "output_type": "display_data",
          "data": {
            "text/html": [
              "6"
            ],
            "text/markdown": "6",
            "text/latex": "6",
            "text/plain": [
              "[1] 6"
            ]
          },
          "metadata": {}
        },
        {
          "output_type": "display_data",
          "data": {
            "text/html": [
              "6"
            ],
            "text/markdown": "6",
            "text/latex": "6",
            "text/plain": [
              "[1] 6"
            ]
          },
          "metadata": {}
        },
        {
          "output_type": "display_data",
          "data": {
            "text/html": [
              "6"
            ],
            "text/markdown": "6",
            "text/latex": "6",
            "text/plain": [
              "[1] 6"
            ]
          },
          "metadata": {}
        }
      ]
    },
    {
      "cell_type": "code",
      "source": [
        "mod_backward = lm(y ~ x+ x3 + x4+ x6+x8+x10, data = data)\n",
        "summary(mod_backward)\n",
        "summary(mod_backward)$coefficients"
      ],
      "metadata": {
        "id": "1zp9CZKgAdyC",
        "outputId": "2a14c5fe-21a5-40de-c2cf-597a95df83f3",
        "colab": {
          "base_uri": "https://localhost:8080/",
          "height": 685
        }
      },
      "id": "1zp9CZKgAdyC",
      "execution_count": 43,
      "outputs": [
        {
          "output_type": "display_data",
          "data": {
            "text/plain": [
              "\n",
              "Call:\n",
              "lm(formula = y ~ x + x3 + x4 + x6 + x8 + x10, data = data)\n",
              "\n",
              "Residuals:\n",
              "     Min       1Q   Median       3Q      Max \n",
              "-2.49425 -0.61781  0.03665  0.68225  2.46313 \n",
              "\n",
              "Coefficients:\n",
              "             Estimate Std. Error t value Pr(>|t|)    \n",
              "(Intercept)  0.962461   0.148416   6.485 4.23e-09 ***\n",
              "x            2.036188   0.184834  11.016  < 2e-16 ***\n",
              "x3           4.002304   0.060330  66.340  < 2e-16 ***\n",
              "x4           5.099913   0.506689  10.065  < 2e-16 ***\n",
              "x6          -2.626848   0.407368  -6.448 5.00e-09 ***\n",
              "x8           0.534233   0.103424   5.165 1.36e-06 ***\n",
              "x10         -0.037498   0.008279  -4.529 1.75e-05 ***\n",
              "---\n",
              "Signif. codes:  0 ‘***’ 0.001 ‘**’ 0.01 ‘*’ 0.05 ‘.’ 0.1 ‘ ’ 1\n",
              "\n",
              "Residual standard error: 1.049 on 93 degrees of freedom\n",
              "Multiple R-squared:  0.9961,\tAdjusted R-squared:  0.9958 \n",
              "F-statistic:  3910 on 6 and 93 DF,  p-value: < 2.2e-16\n"
            ]
          },
          "metadata": {}
        },
        {
          "output_type": "display_data",
          "data": {
            "text/html": [
              "<table class=\"dataframe\">\n",
              "<caption>A matrix: 7 × 4 of type dbl</caption>\n",
              "<thead>\n",
              "\t<tr><th></th><th scope=col>Estimate</th><th scope=col>Std. Error</th><th scope=col>t value</th><th scope=col>Pr(&gt;|t|)</th></tr>\n",
              "</thead>\n",
              "<tbody>\n",
              "\t<tr><th scope=row>(Intercept)</th><td> 0.96246058</td><td>0.148415642</td><td> 6.484900</td><td>4.228268e-09</td></tr>\n",
              "\t<tr><th scope=row>x</th><td> 2.03618755</td><td>0.184833788</td><td>11.016317</td><td>1.489272e-18</td></tr>\n",
              "\t<tr><th scope=row>x3</th><td> 4.00230371</td><td>0.060330386</td><td>66.339767</td><td>4.056522e-80</td></tr>\n",
              "\t<tr><th scope=row>x4</th><td> 5.09991278</td><td>0.506688990</td><td>10.065174</td><td>1.491152e-16</td></tr>\n",
              "\t<tr><th scope=row>x6</th><td>-2.62684824</td><td>0.407367723</td><td>-6.448347</td><td>4.995368e-09</td></tr>\n",
              "\t<tr><th scope=row>x8</th><td> 0.53423326</td><td>0.103423511</td><td> 5.165491</td><td>1.360791e-06</td></tr>\n",
              "\t<tr><th scope=row>x10</th><td>-0.03749812</td><td>0.008278746</td><td>-4.529444</td><td>1.752316e-05</td></tr>\n",
              "</tbody>\n",
              "</table>\n"
            ],
            "text/markdown": "\nA matrix: 7 × 4 of type dbl\n\n| <!--/--> | Estimate | Std. Error | t value | Pr(&gt;|t|) |\n|---|---|---|---|---|\n| (Intercept) |  0.96246058 | 0.148415642 |  6.484900 | 4.228268e-09 |\n| x |  2.03618755 | 0.184833788 | 11.016317 | 1.489272e-18 |\n| x3 |  4.00230371 | 0.060330386 | 66.339767 | 4.056522e-80 |\n| x4 |  5.09991278 | 0.506688990 | 10.065174 | 1.491152e-16 |\n| x6 | -2.62684824 | 0.407367723 | -6.448347 | 4.995368e-09 |\n| x8 |  0.53423326 | 0.103423511 |  5.165491 | 1.360791e-06 |\n| x10 | -0.03749812 | 0.008278746 | -4.529444 | 1.752316e-05 |\n\n",
            "text/latex": "A matrix: 7 × 4 of type dbl\n\\begin{tabular}{r|llll}\n  & Estimate & Std. Error & t value & Pr(>\\textbar{}t\\textbar{})\\\\\n\\hline\n\t(Intercept) &  0.96246058 & 0.148415642 &  6.484900 & 4.228268e-09\\\\\n\tx &  2.03618755 & 0.184833788 & 11.016317 & 1.489272e-18\\\\\n\tx3 &  4.00230371 & 0.060330386 & 66.339767 & 4.056522e-80\\\\\n\tx4 &  5.09991278 & 0.506688990 & 10.065174 & 1.491152e-16\\\\\n\tx6 & -2.62684824 & 0.407367723 & -6.448347 & 4.995368e-09\\\\\n\tx8 &  0.53423326 & 0.103423511 &  5.165491 & 1.360791e-06\\\\\n\tx10 & -0.03749812 & 0.008278746 & -4.529444 & 1.752316e-05\\\\\n\\end{tabular}\n",
            "text/plain": [
              "            Estimate    Std. Error  t value   Pr(>|t|)    \n",
              "(Intercept)  0.96246058 0.148415642  6.484900 4.228268e-09\n",
              "x            2.03618755 0.184833788 11.016317 1.489272e-18\n",
              "x3           4.00230371 0.060330386 66.339767 4.056522e-80\n",
              "x4           5.09991278 0.506688990 10.065174 1.491152e-16\n",
              "x6          -2.62684824 0.407367723 -6.448347 4.995368e-09\n",
              "x8           0.53423326 0.103423511  5.165491 1.360791e-06\n",
              "x10         -0.03749812 0.008278746 -4.529444 1.752316e-05"
            ]
          },
          "metadata": {}
        }
      ]
    },
    {
      "cell_type": "markdown",
      "metadata": {
        "id": "25dbc027"
      },
      "source": [
        "c) Compare your results from parts a and b with those of question 1."
      ],
      "id": "25dbc027"
    },
    {
      "cell_type": "markdown",
      "metadata": {
        "id": "34ac850e"
      },
      "source": [
        "> *Forward selection: the best model from forward selection is the same as the best model from BIC and Mallows' Cp.*\n",
        ">*Backward selection: the best model from Backward selection is similar to the best model from adjusted R squared. It only got rid of the x2 predictor.*"
      ],
      "id": "34ac850e"
    },
    {
      "cell_type": "markdown",
      "metadata": {
        "id": "630f4909"
      },
      "source": [
        "---\n",
        "## 3. Training and test error (3 points)"
      ],
      "id": "630f4909"
    },
    {
      "cell_type": "markdown",
      "metadata": {
        "id": "cdea3f49"
      },
      "source": [
        "This question will explore the relationship between training and test error and the number of features included in a model. We will again use a simulated dataset.\n",
        "\n",
        "a) Simulate dataset with features $p = 20$ and observations $n = 1,000$. Generate data for a response variable $Y$ according to the model\n",
        "\n",
        "$Y = X\\beta + \\epsilon$\n",
        "\n",
        "where $\\beta$ is random with some elements that are exactly zero.\n",
        "\n",
        "Split your simulated dataset into a training set containing $n=100$ observations and a test set containing $n=900$ observations."
      ],
      "id": "cdea3f49"
    },
    {
      "cell_type": "code",
      "execution_count": 57,
      "metadata": {
        "id": "3f113879",
        "vscode": {
          "languageId": "r"
        }
      },
      "outputs": [],
      "source": [
        "set.seed(15)\n",
        "\n",
        "\n",
        "p <- 20\n",
        "n <- 1000\n",
        "\n",
        "beta <- rnorm(p)\n",
        "beta[c(1, 3, 9, 11)] <- 0\n",
        "\n",
        "\n",
        "x <- matrix(rnorm(n * p), nrow = n, ncol = p)\n",
        "epsilon <- rnorm(n)\n",
        "y <- x %*% beta + epsilon\n",
        "\n",
        "index <- sample(seq(1000), 100, replace = FALSE)\n",
        "train_x = x[index,]\n",
        "test_x = x[-index,]\n",
        "\n",
        "train_y = y[index,]\n",
        "test_y = y[-index,]\n",
        "\n",
        "training_set <- data.frame(train_x, train_y)\n",
        "testing_set <- data.frame(test_x, test_y)\n"
      ],
      "id": "3f113879"
    },
    {
      "cell_type": "markdown",
      "metadata": {
        "id": "5886639c"
      },
      "source": [
        "b) Perform best subset selection on the training set, and plot the associated training and test set MSE for the best model of each size."
      ],
      "id": "5886639c"
    },
    {
      "cell_type": "code",
      "execution_count": 60,
      "metadata": {
        "id": "a1dbdf04",
        "vscode": {
          "languageId": "r"
        },
        "outputId": "52e23614-d5cc-4bf0-d18f-91df614ad329",
        "colab": {
          "base_uri": "https://localhost:8080/",
          "height": 69
        }
      },
      "outputs": [
        {
          "output_type": "display_data",
          "data": {
            "text/html": [
              "12"
            ],
            "text/markdown": "12",
            "text/latex": "12",
            "text/plain": [
              "[1] 12"
            ]
          },
          "metadata": {}
        },
        {
          "output_type": "display_data",
          "data": {
            "text/html": [
              "16"
            ],
            "text/markdown": "16",
            "text/latex": "16",
            "text/plain": [
              "[1] 16"
            ]
          },
          "metadata": {}
        },
        {
          "output_type": "display_data",
          "data": {
            "text/html": [
              "13"
            ],
            "text/markdown": "13",
            "text/latex": "13",
            "text/plain": [
              "[1] 13"
            ]
          },
          "metadata": {}
        }
      ],
      "source": [
        "training_fit = regsubsets(train_y ~ ., data = training_set, nvmax = p)\n",
        "train_sum = summary(training_fit)\n",
        "# train_sum\n",
        "which.min(train_sum$bic)\n",
        "which.max(train_sum$adjr2)\n",
        "which.min(train_sum$cp)"
      ],
      "id": "a1dbdf04"
    },
    {
      "cell_type": "code",
      "source": [
        "train.mat = model.matrix(train_y ~ ., data = training_set, nvmax = p)\n",
        "trainMSE = rep(NA, 20)\n",
        "for (i in 1:20) {\n",
        "    coef = coef(training_fit, id = i) # get coefficients of each variable from the best model of i size\n",
        "    pred = train.mat[, names(coef)] %*% coef # calculate the predicted values\n",
        "    trainMSE[i] = mean((training_set$train_y - pred)^2)\n",
        "}\n",
        "\n",
        "test.mat = model.matrix(test_y ~ ., data = testing_set, nvmax = p)\n",
        "testMSE = rep(NA, 20)\n",
        "for (i in 1:20) {\n",
        "    coef = coef(training_fit, id = i) # get coefficients of each variable from the best model of i size\n",
        "    predict = test.mat[, names(coef)] %*% coef # calculate the predicted values\n",
        "    testMSE[i] = mean((testing_set$test_y - predict)^2)\n",
        "}\n",
        "\n",
        "size <- seq(1, 20)\n",
        "plot_df <- data.frame(trainMSE, testMSE, size)\n",
        "ggplot(plot_df, aes(x = size)) +\n",
        "    geom_point(aes(y = trainMSE, color = \"trainMSE\")) +\n",
        "    geom_point(aes(y = testMSE, color = \"testMSE\")) +\n",
        "    labs(y = \"MSE\")"
      ],
      "metadata": {
        "id": "NF4jIlqOHGgL",
        "outputId": "9691b104-752d-4ee3-9aa4-9876fb6172c2",
        "colab": {
          "base_uri": "https://localhost:8080/",
          "height": 437
        }
      },
      "id": "NF4jIlqOHGgL",
      "execution_count": 65,
      "outputs": [
        {
          "output_type": "display_data",
          "data": {
            "text/plain": [
              "plot without title"
            ],
            "image/png": "[encoded data removed]"
          },
          "metadata": {
            "image/png": {
              "width": 420,
              "height": 420
            }
          }
        }
      ]
    },
    {
      "cell_type": "markdown",
      "metadata": {
        "id": "24f9d2f1"
      },
      "source": [
        "c) Identify the best model according the test MSE. How does this model compare to the actual model used to simulate the dataset?\n",
        "\n",
        "*Note: If the model identified contains only an intercept or all of the features, then generate a new dataset (i.e. repeat part a with a different random seed) until the test set MSE is minimized for an intermediate model size.*"
      ],
      "id": "24f9d2f1"
    },
    {
      "cell_type": "code",
      "execution_count": 70,
      "metadata": {
        "id": "87db7d52",
        "vscode": {
          "languageId": "r"
        },
        "outputId": "69b8ba68-2a9d-44db-c288-9fb7c6e95538",
        "colab": {
          "base_uri": "https://localhost:8080/",
          "height": 86
        }
      },
      "outputs": [
        {
          "output_type": "display_data",
          "data": {
            "text/html": [
              "12"
            ],
            "text/markdown": "12",
            "text/latex": "12",
            "text/plain": [
              "[1] 12"
            ]
          },
          "metadata": {}
        },
        {
          "output_type": "display_data",
          "data": {
            "text/html": [
              "<style>\n",
              ".dl-inline {width: auto; margin:0; padding: 0}\n",
              ".dl-inline>dt, .dl-inline>dd {float: none; width: auto; display: inline-block}\n",
              ".dl-inline>dt::after {content: \":\\0020\"; padding-right: .5ex}\n",
              ".dl-inline>dt:not(:first-of-type) {padding-left: .5ex}\n",
              "</style><dl class=dl-inline><dt>(Intercept)</dt><dd>0.00264025175145673</dd><dt>X2</dt><dd>1.69469138310314</dd><dt>X4</dt><dd>0.90337014858556</dd><dt>X5</dt><dd>0.436259331719566</dd><dt>X6</dt><dd>-1.27204063894663</dd><dt>X8</dt><dd>1.28787294491045</dd><dt>X10</dt><dd>-1.06714717527737</dd><dt>X12</dt><dd>-0.330493300365348</dd><dt>X13</dt><dd>0.268392570487686</dd><dt>X14</dt><dd>-1.08295599353541</dd><dt>X15</dt><dd>1.41992887017299</dd><dt>X19</dt><dd>-1.07399603391516</dd><dt>X20</dt><dd>-0.433122115660243</dd></dl>\n"
            ],
            "text/markdown": "(Intercept)\n:   0.00264025175145673X2\n:   1.69469138310314X4\n:   0.90337014858556X5\n:   0.436259331719566X6\n:   -1.27204063894663X8\n:   1.28787294491045X10\n:   -1.06714717527737X12\n:   -0.330493300365348X13\n:   0.268392570487686X14\n:   -1.08295599353541X15\n:   1.41992887017299X19\n:   -1.07399603391516X20\n:   -0.433122115660243\n\n",
            "text/latex": "\\begin{description*}\n\\item[(Intercept)] 0.00264025175145673\n\\item[X2] 1.69469138310314\n\\item[X4] 0.90337014858556\n\\item[X5] 0.436259331719566\n\\item[X6] -1.27204063894663\n\\item[X8] 1.28787294491045\n\\item[X10] -1.06714717527737\n\\item[X12] -0.330493300365348\n\\item[X13] 0.268392570487686\n\\item[X14] -1.08295599353541\n\\item[X15] 1.41992887017299\n\\item[X19] -1.07399603391516\n\\item[X20] -0.433122115660243\n\\end{description*}\n",
            "text/plain": [
              " (Intercept)           X2           X4           X5           X6           X8 \n",
              " 0.002640252  1.694691383  0.903370149  0.436259332 -1.272040639  1.287872945 \n",
              "         X10          X12          X13          X14          X15          X19 \n",
              "-1.067147175 -0.330493300  0.268392570 -1.082955994  1.419928870 -1.073996034 \n",
              "         X20 \n",
              "-0.433122116 "
            ]
          },
          "metadata": {}
        }
      ],
      "source": [
        "which.min(testMSE)\n",
        "set.seed(16)\n",
        "beta <- rnorm(p)\n",
        "beta[c(1, 3, 9, 11)] <- 0\n",
        "data <- data.frame(size, beta)\n",
        "# data\n",
        "\n",
        "coef(training_fit, 12)\n",
        "\n"
      ],
      "id": "87db7d52"
    },
    {
      "cell_type": "markdown",
      "metadata": {
        "id": "894b4503"
      },
      "source": [
        "> *The best model has 12 predictors, which does not contain beta1,beta3, beta9, beta11. Since these predictors were set to be zero, the best model is correct in excluding these predictors in the new dataset.*\n",
        ">"
      ],
      "id": "894b4503"
    },
    {
      "cell_type": "markdown",
      "metadata": {
        "id": "35b974f0"
      },
      "source": [
        "**DUE:** 5pm EST, April 8, 2024"
      ],
      "id": "35b974f0"
    },
    {
      "cell_type": "markdown",
      "metadata": {
        "id": "957a72c5"
      },
      "source": [
        "**IMPORTANT** Did you collaborate with anyone on this assignment? If so, list their names here.\n",
        "> *Letian Huang*"
      ],
      "id": "957a72c5"
    }
  ],
  "metadata": {
    "colab": {
      "provenance": [],
      "name": "exercise16.ipynb",
      "include_colab_link": true
    },
    "kernelspec": {
      "display_name": "R",
      "name": "ir"
    },
    "language_info": {
      "codemirror_mode": "r",
      "file_extension": ".r",
      "mimetype": "text/x-r-source",
      "name": "R",
      "pygments_lexer": "r",
      "version": "4.2.0"
    }
  },
  "nbformat": 4,
  "nbformat_minor": 5
}