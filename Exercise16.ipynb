{
  "cells": [
    {
      "cell_type": "markdown",
      "metadata": {
        "id": "view-in-github",
        "colab_type": "text"
      },
      "source": [
        "<a href=\"https://colab.research.google.com/github/jialinli-21/Li_DSPN_S25/blob/main/Exercise16.ipynb\" target=\"_parent\"><img src=\"https://colab.research.google.com/assets/colab-badge.svg\" alt=\"Open In Colab\"/></a>"
      ]
    },
    {
      "cell_type": "markdown",
      "metadata": {
        "id": "614c6a4a"
      },
      "source": [
        "# Exercise 16: Model selection"
      ],
      "id": "614c6a4a"
    },
    {
      "cell_type": "markdown",
      "metadata": {
        "id": "7e861f62"
      },
      "source": [
        "This homework is designed to give you practice implementing model selection techniques, including best subset selection and forward/backward stepwise selection.\n",
        "\n",
        "You won't need to load in any data for this homework, we will be simulating our own."
      ],
      "id": "7e861f62"
    },
    {
      "cell_type": "markdown",
      "metadata": {
        "id": "b065256e"
      },
      "source": [
        "---\n",
        "## 1. Best subset selection (4 points)"
      ],
      "id": "b065256e"
    },
    {
      "cell_type": "markdown",
      "metadata": {
        "id": "bfe412c5"
      },
      "source": [
        "In this question, we will first generate simulated data, and then use it to perform best subset selection.\n",
        "\n",
        "a) Use `rnorm()` to generate a dataset including a predictor $X$ of length $n = 100$ and a noise vector $\\epsilon$ of length $n = 100$. Generate data for a response variable $Y$ of length $n = 100$ according to the model\n",
        "\n",
        "$Y = \\beta_0 + \\beta_1X + \\beta_2X^2 + \\beta_3X^3 + \\epsilon$\n",
        "\n",
        "where $\\beta_0$, $\\beta_1$, $\\beta_2$, and $\\beta_3$ are constants of your choice.\n"
      ],
      "id": "bfe412c5"
    },
    {
      "cell_type": "code",
      "execution_count": null,
      "metadata": {
        "id": "82a01047",
        "vscode": {
          "languageId": "r"
        },
        "colab": {
          "base_uri": "https://localhost:8080/",
          "height": 286
        },
        "outputId": "c14b8feb-913f-4b1e-b5fa-064c60e69608"
      },
      "outputs": [
        {
          "output_type": "display_data",
          "data": {
            "text/html": [
              "<table class=\"dataframe\">\n",
              "<caption>A data.frame: 6 × 2</caption>\n",
              "<thead>\n",
              "\t<tr><th></th><th scope=col>y</th><th scope=col>x</th></tr>\n",
              "\t<tr><th></th><th scope=col>&lt;dbl&gt;</th><th scope=col>&lt;dbl&gt;</th></tr>\n",
              "</thead>\n",
              "<tbody>\n",
              "\t<tr><th scope=row>1</th><td> 1.7479413</td><td> 0.2588229</td></tr>\n",
              "\t<tr><th scope=row>2</th><td>39.2506067</td><td> 1.8311207</td></tr>\n",
              "\t<tr><th scope=row>3</th><td>-0.6979822</td><td>-0.3396186</td></tr>\n",
              "\t<tr><th scope=row>4</th><td> 9.5634794</td><td> 0.8971982</td></tr>\n",
              "\t<tr><th scope=row>5</th><td> 4.2345246</td><td> 0.4880163</td></tr>\n",
              "\t<tr><th scope=row>6</th><td>-5.0314842</td><td>-1.2553858</td></tr>\n",
              "</tbody>\n",
              "</table>\n"
            ],
            "text/markdown": "\nA data.frame: 6 × 2\n\n| <!--/--> | y &lt;dbl&gt; | x &lt;dbl&gt; |\n|---|---|---|\n| 1 |  1.7479413 |  0.2588229 |\n| 2 | 39.2506067 |  1.8311207 |\n| 3 | -0.6979822 | -0.3396186 |\n| 4 |  9.5634794 |  0.8971982 |\n| 5 |  4.2345246 |  0.4880163 |\n| 6 | -5.0314842 | -1.2553858 |\n\n",
            "text/latex": "A data.frame: 6 × 2\n\\begin{tabular}{r|ll}\n  & y & x\\\\\n  & <dbl> & <dbl>\\\\\n\\hline\n\t1 &  1.7479413 &  0.2588229\\\\\n\t2 & 39.2506067 &  1.8311207\\\\\n\t3 & -0.6979822 & -0.3396186\\\\\n\t4 &  9.5634794 &  0.8971982\\\\\n\t5 &  4.2345246 &  0.4880163\\\\\n\t6 & -5.0314842 & -1.2553858\\\\\n\\end{tabular}\n",
            "text/plain": [
              "  y          x         \n",
              "1  1.7479413  0.2588229\n",
              "2 39.2506067  1.8311207\n",
              "3 -0.6979822 -0.3396186\n",
              "4  9.5634794  0.8971982\n",
              "5  4.2345246  0.4880163\n",
              "6 -5.0314842 -1.2553858"
            ]
          },
          "metadata": {}
        }
      ],
      "source": [
        "\n",
        "set.seed(15)\n",
        "n = 100\n",
        "beta_0 = 1\n",
        "beta_1 = 2\n",
        "beta_2 = 3\n",
        "beta_3 = 4\n",
        "simulate_data <- function(sample_size, beta_0, beta_1, beta_2, beta_3) {\n",
        "      #generate x\n",
        "      x = rnorm(sample_size)\n",
        "      epsilon = rnorm(sample_size)\n",
        "      # generate y\n",
        "      y = beta_0 + beta_1*x + beta_2 * (x**2) + beta_3 * (x ** 3) + epsilon\n",
        "\n",
        "\n",
        "      return (data.frame(\n",
        "        y = y,\n",
        "        x = x\n",
        "      ))\n",
        "\n",
        "}\n",
        "\n",
        "data <- simulate_data(n,  beta_0, beta_1, beta_2, beta_3)\n",
        "head(data)\n",
        "\n"
      ],
      "id": "82a01047"
    },
    {
      "cell_type": "markdown",
      "metadata": {
        "id": "19065c60"
      },
      "source": [
        "b) Use `regsubsets()` to perform best subset selection to determine the best model that contains the predictor variables $X$, $X^2$, . . . , $X^{10}$. Print the model summary."
      ],
      "id": "19065c60"
    },
    {
      "cell_type": "code",
      "source": [
        "install.packages(\"leaps\")"
      ],
      "metadata": {
        "colab": {
          "base_uri": "https://localhost:8080/"
        },
        "id": "IeWUjNrgzYUx",
        "outputId": "c858d1bb-6a54-4b5d-c9be-79cb5f3cb856"
      },
      "id": "IeWUjNrgzYUx",
      "execution_count": null,
      "outputs": [
        {
          "output_type": "stream",
          "name": "stderr",
          "text": [
            "Installing package into ‘/usr/local/lib/R/site-library’\n",
            "(as ‘lib’ is unspecified)\n",
            "\n"
          ]
        }
      ]
    },
    {
      "cell_type": "code",
      "execution_count": null,
      "metadata": {
        "id": "2d0ea51f",
        "vscode": {
          "languageId": "r"
        },
        "colab": {
          "base_uri": "https://localhost:8080/"
        },
        "outputId": "da93ac8b-e37d-4fd6-ba10-fb5c203db528"
      },
      "outputs": [
        {
          "output_type": "stream",
          "name": "stderr",
          "text": [
            "── \u001b[1mAttaching core tidyverse packages\u001b[22m ──────────────────────── tidyverse 2.0.0 ──\n",
            "\u001b[32m✔\u001b[39m \u001b[34mdplyr    \u001b[39m 1.1.4     \u001b[32m✔\u001b[39m \u001b[34mreadr    \u001b[39m 2.1.5\n",
            "\u001b[32m✔\u001b[39m \u001b[34mforcats  \u001b[39m 1.0.0     \u001b[32m✔\u001b[39m \u001b[34mstringr  \u001b[39m 1.5.1\n",
            "\u001b[32m✔\u001b[39m \u001b[34mggplot2  \u001b[39m 3.5.1     \u001b[32m✔\u001b[39m \u001b[34mtibble   \u001b[39m 3.2.1\n",
            "\u001b[32m✔\u001b[39m \u001b[34mlubridate\u001b[39m 1.9.4     \u001b[32m✔\u001b[39m \u001b[34mtidyr    \u001b[39m 1.3.1\n",
            "\u001b[32m✔\u001b[39m \u001b[34mpurrr    \u001b[39m 1.0.4     \n",
            "── \u001b[1mConflicts\u001b[22m ────────────────────────────────────────── tidyverse_conflicts() ──\n",
            "\u001b[31m✖\u001b[39m \u001b[34mdplyr\u001b[39m::\u001b[32mfilter()\u001b[39m masks \u001b[34mstats\u001b[39m::filter()\n",
            "\u001b[31m✖\u001b[39m \u001b[34mdplyr\u001b[39m::\u001b[32mlag()\u001b[39m    masks \u001b[34mstats\u001b[39m::lag()\n",
            "\u001b[36mℹ\u001b[39m Use the conflicted package (\u001b[3m\u001b[34m<http://conflicted.r-lib.org/>\u001b[39m\u001b[23m) to force all conflicts to become errors\n"
          ]
        }
      ],
      "source": [
        "library(tidyverse) # for some data frame manipulation\n",
        "library(leaps)\n"
      ],
      "id": "2d0ea51f"
    },
    {
      "cell_type": "code",
      "execution_count": null,
      "metadata": {
        "id": "e584b852",
        "vscode": {
          "languageId": "r"
        }
      },
      "outputs": [],
      "source": [
        "# Note: if your model summary doesn't show up when viewing your notebook on github, copy and paste the output below.\n",
        "# Otherwise you can either delete this cell or leave it blank.\n",
        "\n",
        "# regsubsets uses the same model configuration as lm()\n",
        "# so, configure the model in regsubsets as regsubsets(model, data)\n",
        "regfit.full = regsubsets(y~., select(data,c(AtBat,Hits,HmRun,Salary,Assists))) #use every variable EXCEPT salary as a predictor\n",
        "summary(regfit.full) # Asterisks indicate that a field is included in the model\n",
        "```"
      ],
      "id": "e584b852"
    },
    {
      "cell_type": "markdown",
      "metadata": {
        "id": "3528231b"
      },
      "source": [
        "c) Plot the Mallows' Cp, Bayesian Information Criteria (BIC) and the adjusted coefficient of determination, $R^2$, for each model tested. Which is the best model? Report the coefficients of the best model."
      ],
      "id": "3528231b"
    },
    {
      "cell_type": "code",
      "execution_count": null,
      "metadata": {
        "id": "6a817913",
        "vscode": {
          "languageId": "r"
        }
      },
      "outputs": [],
      "source": [
        "# WRITE YOUR CODE HERE\n",
        "\n"
      ],
      "id": "6a817913"
    },
    {
      "cell_type": "markdown",
      "metadata": {
        "id": "e7f16d76"
      },
      "source": [
        "> *Write your response here*\n",
        ">"
      ],
      "id": "e7f16d76"
    },
    {
      "cell_type": "markdown",
      "metadata": {
        "id": "19d388b0"
      },
      "source": [
        "---\n",
        "## 2. Forward and backwards stepwise selection (3 points)"
      ],
      "id": "19d388b0"
    },
    {
      "cell_type": "markdown",
      "metadata": {
        "id": "620dc14c"
      },
      "source": [
        "Using the same simulated data from question 1, use forward stepwise selection, and backwards stepwise selections to determine the best model. Again, for both model selection methods, plot the Mallows' Cp, Bayesian Information Criteria (BIC) and the adjusted coefficient of determination, $R^2$, for each model tested. Report the coefficients of the best model."
      ],
      "id": "620dc14c"
    },
    {
      "cell_type": "markdown",
      "metadata": {
        "id": "d734954e"
      },
      "source": [
        "a) Forward stepwise selection:"
      ],
      "id": "d734954e"
    },
    {
      "cell_type": "code",
      "execution_count": null,
      "metadata": {
        "id": "8018ba62",
        "vscode": {
          "languageId": "r"
        }
      },
      "outputs": [],
      "source": [
        "# WRITE YOUR CODE HERE\n",
        "\n"
      ],
      "id": "8018ba62"
    },
    {
      "cell_type": "code",
      "execution_count": null,
      "metadata": {
        "id": "861cedcd",
        "vscode": {
          "languageId": "r"
        }
      },
      "outputs": [],
      "source": [
        "# Note: if your model summary doesn't show up when viewing your notebook on github, copy and paste the output below.\n",
        "# Otherwise you can either delete this cell or leave it blank.\n",
        "\n",
        "```\n",
        "# paste here\n",
        "\n",
        "```"
      ],
      "id": "861cedcd"
    },
    {
      "cell_type": "markdown",
      "metadata": {
        "id": "955e381d"
      },
      "source": [
        "b) Backwards stepwise selection:"
      ],
      "id": "955e381d"
    },
    {
      "cell_type": "code",
      "execution_count": null,
      "metadata": {
        "id": "c9a50756",
        "vscode": {
          "languageId": "r"
        }
      },
      "outputs": [],
      "source": [
        "# WRITE YOUR CODE HERE\n",
        "\n"
      ],
      "id": "c9a50756"
    },
    {
      "cell_type": "code",
      "execution_count": null,
      "metadata": {
        "id": "30746619",
        "vscode": {
          "languageId": "r"
        }
      },
      "outputs": [],
      "source": [
        "# Note: if your model summary doesn't show up when viewing your notebook on github, copy and paste the output below.\n",
        "# Otherwise you can either delete this cell or leave it blank.\n",
        "\n",
        "```\n",
        "# paste here\n",
        "\n",
        "```"
      ],
      "id": "30746619"
    },
    {
      "cell_type": "markdown",
      "metadata": {
        "id": "25dbc027"
      },
      "source": [
        "c) Compare your results from parts a and b with those of question 1."
      ],
      "id": "25dbc027"
    },
    {
      "cell_type": "markdown",
      "metadata": {
        "id": "34ac850e"
      },
      "source": [
        "> *Write your response here*\n",
        ">"
      ],
      "id": "34ac850e"
    },
    {
      "cell_type": "markdown",
      "metadata": {
        "id": "630f4909"
      },
      "source": [
        "---\n",
        "## 3. Training and test error (3 points)"
      ],
      "id": "630f4909"
    },
    {
      "cell_type": "markdown",
      "metadata": {
        "id": "cdea3f49"
      },
      "source": [
        "This question will explore the relationship between training and test error and the number of features included in a model. We will again use a simulated dataset.\n",
        "\n",
        "a) Simulate dataset with features $p = 20$ and observations $n = 1,000$. Generate data for a response variable $Y$ according to the model\n",
        "\n",
        "$Y = X\\beta + \\epsilon$\n",
        "\n",
        "where $\\beta$ is random with some elements that are exactly zero.\n",
        "\n",
        "Split your simulated dataset into a training set containing $n=100$ observations and a test set containing $n=900$ observations."
      ],
      "id": "cdea3f49"
    },
    {
      "cell_type": "code",
      "execution_count": null,
      "metadata": {
        "id": "3f113879",
        "vscode": {
          "languageId": "r"
        }
      },
      "outputs": [],
      "source": [
        "# WRITE YOUR CODE HERE\n",
        "\n"
      ],
      "id": "3f113879"
    },
    {
      "cell_type": "markdown",
      "metadata": {
        "id": "5886639c"
      },
      "source": [
        "b) Perform best subset selection on the training set, and plot the associated training and test set MSE for the best model of each size."
      ],
      "id": "5886639c"
    },
    {
      "cell_type": "code",
      "execution_count": null,
      "metadata": {
        "id": "a1dbdf04",
        "vscode": {
          "languageId": "r"
        }
      },
      "outputs": [],
      "source": [
        "# WRITE YOUR CODE HERE\n",
        "\n"
      ],
      "id": "a1dbdf04"
    },
    {
      "cell_type": "markdown",
      "metadata": {
        "id": "24f9d2f1"
      },
      "source": [
        "c) Identify the best model according the test MSE. How does this model compare to the actual model used to simulate the dataset?\n",
        "\n",
        "*Note: If the model identified contains only an intercept or all of the features, then generate a new dataset (i.e. repeat part a with a different random seed) until the test set MSE is minimized for an intermediate model size.*"
      ],
      "id": "24f9d2f1"
    },
    {
      "cell_type": "code",
      "execution_count": null,
      "metadata": {
        "id": "87db7d52",
        "vscode": {
          "languageId": "r"
        }
      },
      "outputs": [],
      "source": [
        "# WRITE YOUR CODE HERE\n",
        "\n"
      ],
      "id": "87db7d52"
    },
    {
      "cell_type": "markdown",
      "metadata": {
        "id": "894b4503"
      },
      "source": [
        "> *Write your response here*\n",
        ">"
      ],
      "id": "894b4503"
    },
    {
      "cell_type": "markdown",
      "metadata": {
        "id": "35b974f0"
      },
      "source": [
        "**DUE:** 5pm EST, April 8, 2024"
      ],
      "id": "35b974f0"
    },
    {
      "cell_type": "markdown",
      "metadata": {
        "id": "957a72c5"
      },
      "source": [
        "**IMPORTANT** Did you collaborate with anyone on this assignment? If so, list their names here.\n",
        "> *Someone's Name*"
      ],
      "id": "957a72c5"
    }
  ],
  "metadata": {
    "colab": {
      "provenance": [],
      "name": "exercise16.ipynb",
      "include_colab_link": true
    },
    "kernelspec": {
      "display_name": "R",
      "name": "ir"
    },
    "language_info": {
      "codemirror_mode": "r",
      "file_extension": ".r",
      "mimetype": "text/x-r-source",
      "name": "R",
      "pygments_lexer": "r",
      "version": "4.2.0"
    }
  },
  "nbformat": 4,
  "nbformat_minor": 5
}