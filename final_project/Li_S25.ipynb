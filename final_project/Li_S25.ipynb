{
 "cells": [
  {
   "cell_type": "markdown",
   "metadata": {},
   "source": [
    "Final Project: different representations of geometric shapes in monkeys and human kids"
   ]
  },
  {
   "cell_type": "markdown",
   "metadata": {},
   "source": [
    "Introduction"
   ]
  },
  {
   "cell_type": "markdown",
   "metadata": {},
   "source": [
    "Variable of Interest"
   ]
  },
  {
   "cell_type": "markdown",
   "metadata": {},
   "source": [
    "Data Plan Organization\n",
    "- Data Cleansing\n",
    "    - Select columns\n",
    "    - Add labels \n",
    "- Data Description\n",
    "- Statistical Analyses\n",
    "    - Plot learning curves\n",
    "    - Filter data that accuracies below 70% in two consecutive blocks\n",
    "    - Spearman Correlation\n",
    "    - Logistic regression\n",
    "    - Cross validation\n",
    "\n"
   ]
  },
  {
   "cell_type": "code",
   "execution_count": null,
   "metadata": {
    "vscode": {
     "languageId": "plaintext"
    }
   },
   "outputs": [],
   "source": [
    "#load the data\n"
   ]
  }
 ],
 "metadata": {
  "kernelspec": {
   "display_name": "R",
   "language": "R",
   "name": "ir"
  },
  "language_info": {
   "name": "R"
  }
 },
 "nbformat": 4,
 "nbformat_minor": 2
}
