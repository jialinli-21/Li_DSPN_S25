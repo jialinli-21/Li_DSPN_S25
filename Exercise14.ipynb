{
  "cells": [
    {
      "cell_type": "markdown",
      "metadata": {
        "id": "view-in-github",
        "colab_type": "text"
      },
      "source": [
        "<a href=\"https://colab.research.google.com/github/jialinli-21/Li_DSPN_S25/blob/main/Exercise14.ipynb\" target=\"_parent\"><img src=\"https://colab.research.google.com/assets/colab-badge.svg\" alt=\"Open In Colab\"/></a>"
      ]
    },
    {
      "cell_type": "markdown",
      "metadata": {
        "id": "-2W919d2ZXp7"
      },
      "source": [
        "# Exercise 14: Mediation"
      ]
    },
    {
      "cell_type": "markdown",
      "metadata": {
        "id": "L4nOzVhyZXqK"
      },
      "source": [
        "This homework assignment is designed to give you practice with mediation. You won't need to load in any data for this homework -- we'll simulate data instead."
      ]
    },
    {
      "cell_type": "markdown",
      "metadata": {
        "id": "9DsyBTB6ZXqN"
      },
      "source": [
        "---\n",
        "## 1. Simulating data (3 points)\n"
      ]
    },
    {
      "cell_type": "markdown",
      "metadata": {
        "id": "J1f6MywYhyzN"
      },
      "source": [
        "In this homework, we're going to simulate the relationship between age, word reading experience, and reading comprehension skill. Older children tend to be better at reading comprehension tasks, but this isn't just an inherent part of getting older. It's a combination of gaining more experience with reading, oral language skills, and executive functions development. In this homework, though, we're going to simplify this relationship down to a direct effect of age on reading comprehension (since improvements in oral language skills and executive functions are more guaranteed as children age than reading practice is), and a mediation of word reading experience.\n",
        "\n",
        "In graphical form:\n",
        "![picture](https://drive.google.com/uc?id=1wdm9xuiJhBJor99-9GnicO2_rzkGWtfN)"
      ]
    },
    {
      "cell_type": "markdown",
      "metadata": {
        "id": "qMpQX_ogjkyQ"
      },
      "source": [
        "Writing the relationship out formally:\n",
        "\n",
        "$$x = \\beta_{xa} a + \\beta_{x0} + \\epsilon_{x}$$\n",
        "\n",
        "$$c = \\beta_{ca} a + \\beta_{cx} x + \\beta_{c0} + \\epsilon_c$$\n",
        "\n"
      ]
    },
    {
      "cell_type": "markdown",
      "metadata": {
        "id": "5FidlpJlmKi8"
      },
      "source": [
        "$c$ is reading comprehension, $x$ is word reading experience, and $a$ is age. $\\beta_{c0}$ and $\\beta_{x0}$ are intercept terms for their respective formulas, and $\\epsilon_{c}$ and $\\epsilon_{x}$ are gaussian noise terms. We'll start by writing a function, `simulate_data`, that can simulate this relationship. The input values are set and the function structure is provided below. Complete the function such that it takes in those input variables and generates $age$, $x$, and $c$ values. Use `runif()` to generate ages. Use `rnorm()` to generate the noise terms."
      ]
    },
    {
      "cell_type": "code",
      "execution_count": null,
      "metadata": {
        "id": "UnBVazYfZXqP",
        "vscode": {
          "languageId": "r"
        },
        "outputId": "85d563f0-651d-4e5c-817d-9add5dcb2ae1",
        "colab": {
          "base_uri": "https://localhost:8080/",
          "height": 286
        }
      },
      "outputs": [
        {
          "output_type": "display_data",
          "data": {
            "text/html": [
              "<table class=\"dataframe\">\n",
              "<caption>A data.frame: 6 × 3</caption>\n",
              "<thead>\n",
              "\t<tr><th></th><th scope=col>age</th><th scope=col>x</th><th scope=col>c</th></tr>\n",
              "\t<tr><th></th><th scope=col>&lt;dbl&gt;</th><th scope=col>&lt;dbl&gt;</th><th scope=col>&lt;dbl&gt;</th></tr>\n",
              "</thead>\n",
              "<tbody>\n",
              "\t<tr><th scope=row>1</th><td>120.48644</td><td>187.6670</td><td>108.726240</td></tr>\n",
              "\t<tr><th scope=row>2</th><td>172.86976</td><td>371.4011</td><td>388.442543</td></tr>\n",
              "\t<tr><th scope=row>3</th><td>110.82054</td><td>289.7685</td><td>125.740694</td></tr>\n",
              "\t<tr><th scope=row>4</th><td>176.05810</td><td>254.9063</td><td>110.669488</td></tr>\n",
              "\t<tr><th scope=row>5</th><td> 99.13685</td><td>157.2879</td><td>166.752184</td></tr>\n",
              "\t<tr><th scope=row>6</th><td>115.40094</td><td>230.2722</td><td>  1.086979</td></tr>\n",
              "</tbody>\n",
              "</table>\n"
            ],
            "text/markdown": "\nA data.frame: 6 × 3\n\n| <!--/--> | age &lt;dbl&gt; | x &lt;dbl&gt; | c &lt;dbl&gt; |\n|---|---|---|---|\n| 1 | 120.48644 | 187.6670 | 108.726240 |\n| 2 | 172.86976 | 371.4011 | 388.442543 |\n| 3 | 110.82054 | 289.7685 | 125.740694 |\n| 4 | 176.05810 | 254.9063 | 110.669488 |\n| 5 |  99.13685 | 157.2879 | 166.752184 |\n| 6 | 115.40094 | 230.2722 |   1.086979 |\n\n",
            "text/latex": "A data.frame: 6 × 3\n\\begin{tabular}{r|lll}\n  & age & x & c\\\\\n  & <dbl> & <dbl> & <dbl>\\\\\n\\hline\n\t1 & 120.48644 & 187.6670 & 108.726240\\\\\n\t2 & 172.86976 & 371.4011 & 388.442543\\\\\n\t3 & 110.82054 & 289.7685 & 125.740694\\\\\n\t4 & 176.05810 & 254.9063 & 110.669488\\\\\n\t5 &  99.13685 & 157.2879 & 166.752184\\\\\n\t6 & 115.40094 & 230.2722 &   1.086979\\\\\n\\end{tabular}\n",
            "text/plain": [
              "  age       x        c         \n",
              "1 120.48644 187.6670 108.726240\n",
              "2 172.86976 371.4011 388.442543\n",
              "3 110.82054 289.7685 125.740694\n",
              "4 176.05810 254.9063 110.669488\n",
              "5  99.13685 157.2879 166.752184\n",
              "6 115.40094 230.2722   1.086979"
            ]
          },
          "metadata": {}
        }
      ],
      "source": [
        "sample_size = 100 # How many children in data set?\n",
        "age_lo = 80     # minimum age, in months\n",
        "age_hi = 200    # maximum age, in months\n",
        "beta_xa = 0.5   # amount by which experience changes for increase of one month in age\n",
        "beta_x0 = -5    # amount of experience when age = 0 (not interpretable, since minimum age for this data is 80 months)\n",
        "sd_x = 50       # standard dev of gaussian noise term, epsilon_x\n",
        "beta_ca = 0.8   # amount that comprehension score improves for every increase of one unit in age\n",
        "beta_cx = 3     # amount that comprehension score improves for every increase of one unit in reading experience\n",
        "beta_c0 = 10    # comprehension score when reading experience is 0.\n",
        "sd_c = 85      # standard dev of gaussian noise term, epsilon_c\n",
        "\n",
        "simulate_data <- function(sample_size, age_lo, age_hi, beta_xa,\n",
        "                          beta_x0, sd_x, beta_ca, beta_cx, beta_c0, sd_c) {\n",
        "      # generate a\n",
        "      a = runif(sample_size, age_lo, age_hi)\n",
        "      epsilon_x = rnorm(sample_size, 0,sd=sd_x)\n",
        "      x = a*beta_xa+ beta_x0 +epsilon_x\n",
        "\n",
        "      # generate c\n",
        "      epsilon_c = rnorm(sample_size, 0, sd=sd_c)\n",
        "      c = a*beta_ca + beta_c0 + epsilon_c\n",
        "\n",
        "      return (data.frame(\n",
        "        age = a,\n",
        "        x = x,\n",
        "        c = c\n",
        "      ))\n",
        "\n",
        "}\n",
        "\n",
        "dat <- simulate_data(sample_size, age_lo, age_hi, beta_xa, beta_x0, sd_x, beta_ca, beta_cx, beta_c0, sd_c)\n",
        "head(dat)"
      ]
    },
    {
      "cell_type": "markdown",
      "metadata": {
        "id": "I-Rt8PFe_G5O"
      },
      "source": [
        "---\n",
        "## 2. Visualizing Data (2 point)"
      ]
    },
    {
      "cell_type": "markdown",
      "metadata": {
        "id": "MQdcoYCLvuDf"
      },
      "source": [
        "Load the `tidyverse` library."
      ]
    },
    {
      "cell_type": "code",
      "execution_count": null,
      "metadata": {
        "id": "H07EMQCwvzsL",
        "vscode": {
          "languageId": "r"
        },
        "outputId": "a76358a6-8c57-43a0-a347-87e8753515d4",
        "colab": {
          "base_uri": "https://localhost:8080/"
        }
      },
      "outputs": [
        {
          "output_type": "stream",
          "name": "stderr",
          "text": [
            "── \u001b[1mAttaching core tidyverse packages\u001b[22m ──────────────────────── tidyverse 2.0.0 ──\n",
            "\u001b[32m✔\u001b[39m \u001b[34mdplyr    \u001b[39m 1.1.4     \u001b[32m✔\u001b[39m \u001b[34mreadr    \u001b[39m 2.1.5\n",
            "\u001b[32m✔\u001b[39m \u001b[34mforcats  \u001b[39m 1.0.0     \u001b[32m✔\u001b[39m \u001b[34mstringr  \u001b[39m 1.5.1\n",
            "\u001b[32m✔\u001b[39m \u001b[34mggplot2  \u001b[39m 3.5.1     \u001b[32m✔\u001b[39m \u001b[34mtibble   \u001b[39m 3.2.1\n",
            "\u001b[32m✔\u001b[39m \u001b[34mlubridate\u001b[39m 1.9.4     \u001b[32m✔\u001b[39m \u001b[34mtidyr    \u001b[39m 1.3.1\n",
            "\u001b[32m✔\u001b[39m \u001b[34mpurrr    \u001b[39m 1.0.4     \n",
            "── \u001b[1mConflicts\u001b[22m ────────────────────────────────────────── tidyverse_conflicts() ──\n",
            "\u001b[31m✖\u001b[39m \u001b[34mdplyr\u001b[39m::\u001b[32mfilter()\u001b[39m masks \u001b[34mstats\u001b[39m::filter()\n",
            "\u001b[31m✖\u001b[39m \u001b[34mdplyr\u001b[39m::\u001b[32mlag()\u001b[39m    masks \u001b[34mstats\u001b[39m::lag()\n",
            "\u001b[36mℹ\u001b[39m Use the conflicted package (\u001b[3m\u001b[34m<http://conflicted.r-lib.org/>\u001b[39m\u001b[23m) to force all conflicts to become errors\n"
          ]
        }
      ],
      "source": [
        "library(tidyverse)\n"
      ]
    },
    {
      "cell_type": "markdown",
      "metadata": {
        "id": "Vgc2ehTKv1jt"
      },
      "source": [
        "a) Plot the relationship between age and reading comprehension."
      ]
    },
    {
      "cell_type": "code",
      "execution_count": 7,
      "metadata": {
        "id": "Pb-KYXwuwS28",
        "vscode": {
          "languageId": "r"
        },
        "outputId": "257675a4-4a17-4a21-b06f-4c275d38b7f1",
        "colab": {
          "base_uri": "https://localhost:8080/",
          "height": 454
        }
      },
      "outputs": [
        {
          "output_type": "stream",
          "name": "stderr",
          "text": [
            "\u001b[1m\u001b[22m`geom_smooth()` using formula = 'y ~ x'\n"
          ]
        },
        {
          "output_type": "display_data",
          "data": {
            "text/plain": [
              "plot without title"
            ],
            "image/png": "[encoded data removed]"
          },
          "metadata": {
            "image/png": {
              "width": 420,
              "height": 420
            }
          }
        }
      ],
      "source": [
        "library(ggplot2)\n",
        "\n",
        "ggplot(dat,aes(x=age,y=x)) +\n",
        "  geom_point() +\n",
        "  geom_smooth(method=\"lm\",se=FALSE)"
      ]
    },
    {
      "cell_type": "markdown",
      "metadata": {
        "id": "CB_8CsBZwQqW"
      },
      "source": [
        "b) Plot the relationship between reading experience, age, and reading comprehension."
      ]
    },
    {
      "cell_type": "code",
      "execution_count": 11,
      "metadata": {
        "id": "VeSOCXlMweSz",
        "vscode": {
          "languageId": "r"
        },
        "outputId": "47eb1aff-6b14-4107-a508-c3a73afdb805",
        "colab": {
          "base_uri": "https://localhost:8080/",
          "height": 437
        }
      },
      "outputs": [
        {
          "output_type": "display_data",
          "data": {
            "text/plain": [
              "plot without title"
            ],
            "image/png": "[encoded data removed]"
          },
          "metadata": {
            "image/png": {
              "width": 420,
              "height": 420
            }
          }
        }
      ],
      "source": [
        "ggplot(dat,aes(x=age,y=x,color=c)) +\n",
        "  geom_point()\n",
        "\n"
      ]
    },
    {
      "cell_type": "markdown",
      "metadata": {
        "id": "BeK0H64WlOBM"
      },
      "source": [
        "---\n",
        "## 3. Mediation Analysis (4 points)"
      ]
    },
    {
      "cell_type": "markdown",
      "metadata": {
        "id": "dP_6o9rpmThw"
      },
      "source": [
        "Load the `mediation` library."
      ]
    },
    {
      "cell_type": "code",
      "execution_count": 12,
      "metadata": {
        "id": "PIPheP5ipgKg",
        "vscode": {
          "languageId": "r"
        },
        "outputId": "7d1e1639-8e44-4bf3-f69d-773474d3f3fb",
        "colab": {
          "base_uri": "https://localhost:8080/"
        }
      },
      "outputs": [
        {
          "output_type": "stream",
          "name": "stderr",
          "text": [
            "Installing package into ‘/usr/local/lib/R/site-library’\n",
            "(as ‘lib’ is unspecified)\n",
            "\n",
            "also installing the dependencies ‘rbibutils’, ‘checkmate’, ‘Rdpack’, ‘zoo’, ‘gridExtra’, ‘htmlTable’, ‘viridis’, ‘Formula’, ‘minqa’, ‘nloptr’, ‘reformulas’, ‘RcppEigen’, ‘mvtnorm’, ‘sandwich’, ‘lpSolve’, ‘Hmisc’, ‘lme4’\n",
            "\n",
            "\n",
            "Loading required package: MASS\n",
            "\n",
            "\n",
            "Attaching package: ‘MASS’\n",
            "\n",
            "\n",
            "The following object is masked from ‘package:dplyr’:\n",
            "\n",
            "    select\n",
            "\n",
            "\n",
            "Loading required package: Matrix\n",
            "\n",
            "\n",
            "Attaching package: ‘Matrix’\n",
            "\n",
            "\n",
            "The following objects are masked from ‘package:tidyr’:\n",
            "\n",
            "    expand, pack, unpack\n",
            "\n",
            "\n",
            "Loading required package: mvtnorm\n",
            "\n",
            "Loading required package: sandwich\n",
            "\n",
            "mediation: Causal Mediation Analysis\n",
            "Version: 4.5.0\n",
            "\n",
            "\n"
          ]
        }
      ],
      "source": [
        "install.packages(\"mediation\") # uncomment to install the mediation package.\n",
        "library(mediation)\n",
        "\n"
      ]
    },
    {
      "cell_type": "markdown",
      "metadata": {
        "id": "Q1UM2Qhx6Kk-"
      },
      "source": [
        "Use the `mediate` function to determine whether `x` mediates the relationship between `age` and `c`. Use `summary()` to print the model results. *Hint: see the mediation and moderation tutorial.*"
      ]
    },
    {
      "cell_type": "code",
      "execution_count": 14,
      "metadata": {
        "id": "9h1ySgXm4HWm",
        "vscode": {
          "languageId": "r"
        },
        "outputId": "1badd63e-a6a0-40bc-96d2-ec1185fcac83",
        "colab": {
          "base_uri": "https://localhost:8080/",
          "height": 954
        }
      },
      "outputs": [
        {
          "output_type": "display_data",
          "data": {
            "text/plain": [
              "\n",
              "Call:\n",
              "lm(formula = x ~ age, data = dat)\n",
              "\n",
              "Residuals:\n",
              "     Min       1Q   Median       3Q      Max \n",
              "-111.719  -27.779   -5.246   28.772  151.365 \n",
              "\n",
              "Coefficients:\n",
              "            Estimate Std. Error t value Pr(>|t|)    \n",
              "(Intercept) 138.5403    20.9713   6.606 2.06e-09 ***\n",
              "age           0.4714     0.1485   3.175    0.002 ** \n",
              "---\n",
              "Signif. codes:  0 ‘***’ 0.001 ‘**’ 0.01 ‘*’ 0.05 ‘.’ 0.1 ‘ ’ 1\n",
              "\n",
              "Residual standard error: 49.63 on 98 degrees of freedom\n",
              "Multiple R-squared:  0.09327,\tAdjusted R-squared:  0.08402 \n",
              "F-statistic: 10.08 on 1 and 98 DF,  p-value: 0.002003\n"
            ]
          },
          "metadata": {}
        },
        {
          "output_type": "display_data",
          "data": {
            "text/plain": [
              "\n",
              "Call:\n",
              "lm(formula = c ~ x + age, data = dat)\n",
              "\n",
              "Residuals:\n",
              "     Min       1Q   Median       3Q      Max \n",
              "-186.902  -45.913   -2.805   47.199  200.737 \n",
              "\n",
              "Coefficients:\n",
              "              Estimate Std. Error t value Pr(>|t|)    \n",
              "(Intercept) -119.55109   41.76243  -2.863  0.00515 ** \n",
              "x              0.07594    0.16733   0.454  0.65096    \n",
              "age            1.61835    0.25829   6.266 1.02e-08 ***\n",
              "---\n",
              "Signif. codes:  0 ‘***’ 0.001 ‘**’ 0.01 ‘*’ 0.05 ‘.’ 0.1 ‘ ’ 1\n",
              "\n",
              "Residual standard error: 82.21 on 97 degrees of freedom\n",
              "Multiple R-squared:  0.319,\tAdjusted R-squared:  0.305 \n",
              "F-statistic: 22.72 on 2 and 97 DF,  p-value: 8.077e-09\n"
            ]
          },
          "metadata": {}
        },
        {
          "output_type": "display_data",
          "data": {
            "text/plain": [
              "\n",
              "Causal Mediation Analysis \n",
              "\n",
              "Quasi-Bayesian Confidence Intervals\n",
              "\n",
              "               Estimate 95% CI Lower 95% CI Upper p-value    \n",
              "ACME             0.0367      -0.1354         0.21    0.65    \n",
              "ADE              1.6106       1.1090         2.09  <2e-16 ***\n",
              "Total Effect     1.6473       1.1680         2.13  <2e-16 ***\n",
              "Prop. Mediated   0.0207      -0.0845         0.13    0.65    \n",
              "---\n",
              "Signif. codes:  0 ‘***’ 0.001 ‘**’ 0.01 ‘*’ 0.05 ‘.’ 0.1 ‘ ’ 1\n",
              "\n",
              "Sample Size Used: 100 \n",
              "\n",
              "\n",
              "Simulations: 1000 \n"
            ]
          },
          "metadata": {}
        }
      ],
      "source": [
        "fitM <- lm(x ~ age,     data=dat) #Step 1: IV on M, Number of passengers predicting weight of car\n",
        "fitY <- lm(c ~ x + age, data=dat) #Step 2: IV and M on DV, Number of passengers and weight predicting highway\n",
        "summary(fitM)\n",
        "summary(fitY)\n",
        "fitMed <- mediate(fitM, fitY, treat=\"age\", mediator=\"x\")\n",
        "summary(fitMed)\n"
      ]
    },
    {
      "cell_type": "markdown",
      "metadata": {
        "id": "sYL6Pm0FOUbq"
      },
      "source": [
        "---\n",
        "## 5. Reflection (1 point)\n",
        "How do you interpret these results? Why do you think the analysis yielded this result?"
      ]
    },
    {
      "cell_type": "markdown",
      "metadata": {
        "id": "ZGVjm8AJOUbq",
        "outputId": "ccd7b03c-8619-4eb3-9752-06929c1e8ed0",
        "vscode": {
          "languageId": "r"
        }
      },
      "source": [
        "> *Write your response here*\n",
        ">"
      ]
    },
    {
      "cell_type": "markdown",
      "metadata": {
        "id": "C4MPECMmZXqe"
      },
      "source": [
        "**DUE:** 5pm EST, April 1, 2024"
      ]
    },
    {
      "cell_type": "markdown",
      "metadata": {
        "id": "r9GUofXN4BVy"
      },
      "source": [
        "**IMPORTANT** Did you collaborate with anyone on this assignment? If so, list their names here.\n",
        "> *Someone's Name*"
      ]
    }
  ],
  "metadata": {
    "colab": {
      "provenance": [],
      "include_colab_link": true
    },
    "kernelspec": {
      "display_name": "R",
      "name": "ir"
    },
    "language_info": {
      "codemirror_mode": "r",
      "file_extension": ".r",
      "mimetype": "text/x-r-source",
      "name": "R",
      "pygments_lexer": "r",
      "version": "4.2.0"
    }
  },
  "nbformat": 4,
  "nbformat_minor": 0
}