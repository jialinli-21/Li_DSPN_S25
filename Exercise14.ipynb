{
  "cells": [
    {
      "cell_type": "markdown",
      "metadata": {
        "id": "view-in-github",
        "colab_type": "text"
      },
      "source": [
        "<a href=\"https://colab.research.google.com/github/jialinli-21/Li_DSPN_S25/blob/main/Exercise14.ipynb\" target=\"_parent\"><img src=\"https://colab.research.google.com/assets/colab-badge.svg\" alt=\"Open In Colab\"/></a>"
      ]
    },
    {
      "cell_type": "markdown",
      "metadata": {
        "id": "-2W919d2ZXp7"
      },
      "source": [
        "# Exercise 14: Mediation"
      ]
    },
    {
      "cell_type": "markdown",
      "metadata": {
        "id": "L4nOzVhyZXqK"
      },
      "source": [
        "This homework assignment is designed to give you practice with mediation. You won't need to load in any data for this homework -- we'll simulate data instead."
      ]
    },
    {
      "cell_type": "markdown",
      "metadata": {
        "id": "9DsyBTB6ZXqN"
      },
      "source": [
        "---\n",
        "## 1. Simulating data (3 points)\n"
      ]
    },
    {
      "cell_type": "markdown",
      "metadata": {
        "id": "J1f6MywYhyzN"
      },
      "source": [
        "In this homework, we're going to simulate the relationship between age, word reading experience, and reading comprehension skill. Older children tend to be better at reading comprehension tasks, but this isn't just an inherent part of getting older. It's a combination of gaining more experience with reading, oral language skills, and executive functions development. In this homework, though, we're going to simplify this relationship down to a direct effect of age on reading comprehension (since improvements in oral language skills and executive functions are more guaranteed as children age than reading practice is), and a mediation of word reading experience.\n",
        "\n",
        "In graphical form:\n",
        "![picture](https://drive.google.com/uc?id=1wdm9xuiJhBJor99-9GnicO2_rzkGWtfN)"
      ]
    },
    {
      "cell_type": "markdown",
      "metadata": {
        "id": "qMpQX_ogjkyQ"
      },
      "source": [
        "Writing the relationship out formally:\n",
        "\n",
        "$$x = \\beta_{xa} a + \\beta_{x0} + \\epsilon_{x}$$\n",
        "\n",
        "$$c = \\beta_{ca} a + \\beta_{cx} x + \\beta_{c0} + \\epsilon_c$$\n",
        "\n"
      ]
    },
    {
      "cell_type": "markdown",
      "metadata": {
        "id": "5FidlpJlmKi8"
      },
      "source": [
        "$c$ is reading comprehension, $x$ is word reading experience, and $a$ is age. $\\beta_{c0}$ and $\\beta_{x0}$ are intercept terms for their respective formulas, and $\\epsilon_{c}$ and $\\epsilon_{x}$ are gaussian noise terms. We'll start by writing a function, `simulate_data`, that can simulate this relationship. The input values are set and the function structure is provided below. Complete the function such that it takes in those input variables and generates $age$, $x$, and $c$ values. Use `runif()` to generate ages. Use `rnorm()` to generate the noise terms."
      ]
    },
    {
      "cell_type": "code",
      "execution_count": null,
      "metadata": {
        "id": "UnBVazYfZXqP",
        "vscode": {
          "languageId": "r"
        }
      },
      "outputs": [],
      "source": [
        "sample_size = 100 # How many children in data set?\n",
        "age_lo = 80     # minimum age, in months\n",
        "age_hi = 200    # maximum age, in months\n",
        "beta_xa = 0.5   # amount by which experience changes for increase of one month in age\n",
        "beta_x0 = -5    # amount of experience when age = 0 (not interpretable, since minimum age for this data is 80 months)\n",
        "sd_x = 50       # standard dev of gaussian noise term, epsilon_x\n",
        "beta_ca = 0.8   # amount that comprehension score improves for every increase of one unit in age\n",
        "beta_cx = 3     # amount that comprehension score improves for every increase of one unit in reading experience\n",
        "beta_c0 = 10    # comprehension score when reading experience is 0.\n",
        "sd_c = 85      # standard dev of gaussian noise term, epsilon_c\n",
        "\n",
        "simulate_data <- function(sample_size, age_lo, age_hi, beta_xa,\n",
        "                          beta_x0, sd_x, beta_ca, beta_cx, beta_c0, sd_c) {\n",
        "      # WRITE YOUR CODE HERE\n",
        "\n",
        "}\n",
        "\n",
        "#dat <- simulate_data(sample_size, age_lo, age_hi, beta_xa, beta_x0, sd_x, beta_ca, beta_cx, beta_c0, sd_c)\n",
        "#head(dat)"
      ]
    },
    {
      "cell_type": "markdown",
      "metadata": {
        "id": "I-Rt8PFe_G5O"
      },
      "source": [
        "---\n",
        "## 2. Visualizing Data (2 point)"
      ]
    },
    {
      "cell_type": "markdown",
      "metadata": {
        "id": "MQdcoYCLvuDf"
      },
      "source": [
        "Load the `tidyverse` library."
      ]
    },
    {
      "cell_type": "code",
      "execution_count": null,
      "metadata": {
        "id": "H07EMQCwvzsL",
        "vscode": {
          "languageId": "r"
        }
      },
      "outputs": [],
      "source": [
        "# WRITE YOUR CODE HERE\n"
      ]
    },
    {
      "cell_type": "markdown",
      "metadata": {
        "id": "Vgc2ehTKv1jt"
      },
      "source": [
        "a) Plot the relationship between age and reading comprehension."
      ]
    },
    {
      "cell_type": "code",
      "execution_count": null,
      "metadata": {
        "id": "Pb-KYXwuwS28",
        "vscode": {
          "languageId": "r"
        }
      },
      "outputs": [],
      "source": [
        "# WRITE YOUR CODE HERE\n"
      ]
    },
    {
      "cell_type": "markdown",
      "metadata": {
        "id": "CB_8CsBZwQqW"
      },
      "source": [
        "b) Plot the relationship between reading experience, age, and reading comprehension."
      ]
    },
    {
      "cell_type": "code",
      "execution_count": null,
      "metadata": {
        "id": "VeSOCXlMweSz",
        "vscode": {
          "languageId": "r"
        }
      },
      "outputs": [],
      "source": [
        "# WRITE YOUR CODE HERE\n",
        "\n"
      ]
    },
    {
      "cell_type": "markdown",
      "metadata": {
        "id": "BeK0H64WlOBM"
      },
      "source": [
        "---\n",
        "## 3. Mediation Analysis (4 points)"
      ]
    },
    {
      "cell_type": "markdown",
      "metadata": {
        "id": "dP_6o9rpmThw"
      },
      "source": [
        "Load the `mediation` library."
      ]
    },
    {
      "cell_type": "code",
      "execution_count": null,
      "metadata": {
        "id": "PIPheP5ipgKg",
        "vscode": {
          "languageId": "r"
        }
      },
      "outputs": [],
      "source": [
        "# WRITE YOUR CODE HERE\n",
        "\n"
      ]
    },
    {
      "cell_type": "markdown",
      "metadata": {
        "id": "Q1UM2Qhx6Kk-"
      },
      "source": [
        "Use the `mediate` function to determine whether `x` mediates the relationship between `age` and `c`. Use `summary()` to print the model results. *Hint: see the mediation and moderation tutorial.*"
      ]
    },
    {
      "cell_type": "code",
      "execution_count": null,
      "metadata": {
        "id": "9h1ySgXm4HWm",
        "vscode": {
          "languageId": "r"
        }
      },
      "outputs": [],
      "source": [
        "# WRITE YOUR CODE HERE\n"
      ]
    },
    {
      "cell_type": "markdown",
      "metadata": {
        "id": "sYL6Pm0FOUbq"
      },
      "source": [
        "---\n",
        "## 5. Reflection (1 point)\n",
        "How do you interpret these results? Why do you think the analysis yielded this result?"
      ]
    },
    {
      "cell_type": "markdown",
      "metadata": {
        "id": "ZGVjm8AJOUbq",
        "outputId": "ccd7b03c-8619-4eb3-9752-06929c1e8ed0",
        "vscode": {
          "languageId": "r"
        }
      },
      "source": [
        "> *Write your response here*\n",
        ">"
      ]
    },
    {
      "cell_type": "markdown",
      "metadata": {
        "id": "C4MPECMmZXqe"
      },
      "source": [
        "**DUE:** 5pm EST, April 1, 2024"
      ]
    },
    {
      "cell_type": "markdown",
      "metadata": {
        "id": "r9GUofXN4BVy"
      },
      "source": [
        "**IMPORTANT** Did you collaborate with anyone on this assignment? If so, list their names here.\n",
        "> *Someone's Name*"
      ]
    }
  ],
  "metadata": {
    "colab": {
      "provenance": [],
      "include_colab_link": true
    },
    "kernelspec": {
      "display_name": "R",
      "language": "R",
      "name": "ir"
    },
    "language_info": {
      "codemirror_mode": "r",
      "file_extension": ".r",
      "mimetype": "text/x-r-source",
      "name": "R",
      "pygments_lexer": "r",
      "version": "4.2.0"
    }
  },
  "nbformat": 4,
  "nbformat_minor": 0
}